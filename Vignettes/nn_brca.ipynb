{
 "cells": [
  {
   "cell_type": "code",
   "execution_count": 74,
   "metadata": {},
   "outputs": [],
   "source": [
    "import numpy as np\n",
    "import shap\n",
    "import pandas as pd\n",
    "from sklearn.linear_model import LogisticRegression\n",
    "import sys\n",
    "sys.path.append('../GilesCode/')\n",
    "from helper import *\n",
    "from helper2 import *\n",
    "from helper2_dep import *\n",
    "from helper2_indep import *\n",
    "from helper2_shapley_sampling import *\n",
    "from helper4_kshap import *\n",
    "from os.path import join\n",
    "import matplotlib.pyplot as plt\n",
    "from sklearn.ensemble import RandomForestClassifier\n",
    "\n",
    "from sklearn.model_selection import train_test_split"
   ]
  },
  {
   "cell_type": "markdown",
   "metadata": {},
   "source": [
    "### Logistic dataset"
   ]
  },
  {
   "cell_type": "code",
   "execution_count": 75,
   "metadata": {},
   "outputs": [],
   "source": [
    "# d = 10\n",
    "# FEATURE_MEANS = np.repeat(0, d)\n",
    "# FEATURE_VARS = np.repeat(1, d)\n",
    "# FEATURE_COVS = [0.5, 0.25]\n",
    "# COV_MAT = make_banded_cov(FEATURE_VARS, FEATURE_COVS)\n",
    "\n",
    "# # Randomly generate samples\n",
    "# np.random.seed(1)\n",
    "# X = np.random.multivariate_normal(FEATURE_MEANS, COV_MAT, size=10000)\n",
    "# X_train, X_test = X[:8000], X[8000:]\n",
    "# xloc = X_test[10].reshape((1,d))\n",
    "\n",
    "# np.random.seed(1)\n",
    "# BETA = np.random.normal(0, 1, size = d)\n",
    "# def model(x):\n",
    "#     yhat = sigmoid(np.dot(x, BETA))\n",
    "#     return yhat.item() if x.shape[0]==1 else yhat\n",
    "# y = (model(X) > 0.5).astype(int)\n",
    "# y_train, y_test = y[:8000], y[8000:]\n",
    "# mapping_dict = None"
   ]
  },
  {
   "cell_type": "markdown",
   "metadata": {},
   "source": [
    "### Census dataset"
   ]
  },
  {
   "cell_type": "code",
   "execution_count": 76,
   "metadata": {},
   "outputs": [],
   "source": [
    "# X, y = shap.datasets.adult()\n",
    "# X_display, y_display = shap.datasets.adult(display=True)\n",
    "# X_binarized = pd.get_dummies(X_display)\n",
    "\n",
    "# mapping_dict = {}\n",
    "# for i, col in enumerate(X_display.columns):\n",
    "#     bin_cols = []\n",
    "#     for j, bin_col in enumerate(X_binarized.columns):\n",
    "#         if bin_col.startswith(col):\n",
    "#             bin_cols.append(j)\n",
    "#     mapping_dict[i] = bin_cols\n",
    "\n",
    "# X_norm = (X_binarized-X_binarized.min())/(X_binarized.max()-X_binarized.min())\n",
    "# y_int = y_display.astype(\"int8\")\n",
    "\n",
    "# # Split into training and test sets\n",
    "# np.random.seed(1)\n",
    "# n, d = X_norm.shape\n",
    "# n_train = round(n*0.75)\n",
    "# train_idx = np.random.choice(n, size=n_train, replace=False)\n",
    "# X_train_pd, y_train = X_norm.iloc[train_idx], y_int[train_idx]\n",
    "# X_train = X_train_pd.to_numpy()\n",
    "\n",
    "# test_idx = np.setdiff1d(list(range(n)), train_idx)\n",
    "# X_test_pd, y_test = X_norm.iloc[test_idx], y_int[test_idx]\n",
    "# X_test = X_test_pd.to_numpy()\n"
   ]
  },
  {
   "cell_type": "markdown",
   "metadata": {},
   "source": [
    "### Bank dataset"
   ]
  },
  {
   "cell_type": "code",
   "execution_count": 77,
   "metadata": {},
   "outputs": [],
   "source": [
    "# dirpath = \"../Data/bank\"\n",
    "# # dirpath = /PATH/TO/DATA\n",
    "# df_orig = pd.read_csv(join(dirpath, \"df_orig.csv\"))\n",
    "\n",
    "# X_train_raw = np.load(join(dirpath, \"X_train.npy\"))\n",
    "# X_test_raw = np.load(join(dirpath, \"X_test.npy\"))\n",
    "# y_train = np.load(join(dirpath, \"Y_train.npy\"))\n",
    "# y_test = np.load(join(dirpath, \"Y_test.npy\"))\n",
    "# full_dim = X_train_raw.shape[1] # dimension including all binarized categorical columns\n",
    "# X_df = pd.read_csv(join(dirpath, \"X_df.csv\"))\n",
    "\n",
    "\n",
    "# trainmean, trainstd = np.mean(X_train_raw, axis=0), np.std(X_train_raw, axis=0)\n",
    "# def rescale(x, trainmean, trainstd):\n",
    "#     return (x - trainmean) / trainstd\n",
    "# X_train = rescale(X_train_raw, trainmean, trainstd)\n",
    "# X_test = rescale(X_test_raw, trainmean, trainstd)\n",
    "\n",
    "# feature_means = np.mean(X_train, axis=0)\n",
    "# cov_mat = np.cov(X_train, rowvar=False)\n",
    "\n",
    "\n",
    "# df_orig.columns = df_orig.columns.str.replace(' ', '_')\n",
    "# categorical_cols = ['Job', 'Marital', 'Education', 'Default', 'Housing',\n",
    "#                     'Loan', 'Contact', 'Month', 'Prev_Outcome']\n",
    "# mapping_dict = get_mapping_dict(df_orig, X_df, X_train_raw, categorical_cols)\n",
    "# mapping_dict\n",
    "\n",
    "# d = X_df.shape[1]\n"
   ]
  },
  {
   "cell_type": "markdown",
   "metadata": {},
   "source": [
    "### German Credit "
   ]
  },
  {
   "cell_type": "code",
   "execution_count": 78,
   "metadata": {},
   "outputs": [],
   "source": [
    "# import sage\n",
    "# df = sage.datasets.credit()\n",
    "# # Property, other installment, housing, job, status of checking act, credit history, purpose, savings, employment since, marital status, old debtors\n",
    "# n = df.shape[0]\n",
    "# X_df = df.drop([\"Good Customer\"], axis=1)\n",
    "# y = df[\"Good Customer\"]\n",
    "\n",
    "# categorical_columns = [\n",
    "#     'Checking Status', 'Credit History', 'Purpose', #'Credit Amount', # It's listed but has 923 unique values\n",
    "#     'Savings Account/Bonds', 'Employment Since', 'Personal Status',\n",
    "#     'Debtors/Guarantors', 'Property Type', 'Other Installment Plans',\n",
    "#     'Housing Ownership', 'Job', #'Telephone', 'Foreign Worker' # These are just binary\n",
    "# ]\n",
    "# X_binarized = pd.get_dummies(X_df, columns=categorical_columns)\n",
    "# d_bin = X_binarized.shape[1]\n",
    "\n",
    "# mapping_dict = {}\n",
    "# for i, col in enumerate(X_df.columns):\n",
    "#     bin_cols = []\n",
    "#     for j, bin_col in enumerate(X_binarized.columns):\n",
    "#         if bin_col.startswith(col):\n",
    "#             bin_cols.append(j)\n",
    "#     mapping_dict[i] = bin_cols\n",
    "\n",
    "# np.random.seed(1)\n",
    "# X_norm = (X_binarized-X_binarized.min())/(X_binarized.max()-X_binarized.min())\n",
    "# n_train = round(n*0.8)\n",
    "# train_idx = np.random.choice(n, n_train, replace=False)\n",
    "# X_train, y_train = X_norm.iloc[train_idx].to_numpy(), y.iloc[train_idx].to_numpy()\n",
    "# test_idx = np.setdiff1d(np.arange(n),train_idx)\n",
    "# X_test, y_test = X_norm.iloc[test_idx].to_numpy(), y.iloc[test_idx].to_numpy()\n",
    "# d = X_train.shape[1] # dimension of binarized data"
   ]
  },
  {
   "cell_type": "markdown",
   "metadata": {},
   "source": [
    "### BRCA"
   ]
  },
  {
   "cell_type": "code",
   "execution_count": 79,
   "metadata": {},
   "outputs": [],
   "source": [
    "# Load data\n",
    "np.random.seed(1)\n",
    "data = pd.read_csv('../Data/brca_small.csv')\n",
    "X = data.values[:, :-1][:,:20]\n",
    "Y = data.values[:, -1]\n",
    "Y = (Y==2).astype(int) # For multiclass problem. May not be predictive. Splits into 2\n",
    "\n",
    "# Split data\n",
    "X_train, X_test, y_train, y_test = train_test_split(X, Y, test_size=100, random_state=0)\n",
    "# X_train, X_val, y_train, y_val = train_test_split(X_train, Y_train, test_size=100, random_state=1)\n",
    "\n",
    "# Normalize\n",
    "mean = X_train.mean(axis=0)\n",
    "std = X_train.std(axis=0)\n",
    "X_train = (X_train - mean) / std\n",
    "# X_val = (X_val - mean) / std\n",
    "X_test = (X_test - mean) / std\n",
    "d = X_train.shape[1]\n",
    "mapping_dict = None"
   ]
  },
  {
   "cell_type": "code",
   "execution_count": null,
   "metadata": {},
   "outputs": [],
   "source": []
  },
  {
   "cell_type": "code",
   "execution_count": 80,
   "metadata": {},
   "outputs": [],
   "source": [
    "sds = []\n",
    "for i in range(d):\n",
    "    uu = np.unique(X_train[:,i])\n",
    "    if len(uu) == 2:\n",
    "        sds.append(uu)\n",
    "    else:\n",
    "        sds.append(np.repeat(np.std(X_train[:,i]),2))\n",
    "sds = np.array(sds)\n",
    "\n",
    "feature_means = np.mean(X_train, axis=0)\n",
    "cov_mat = np.cov(X_train, rowvar=False)\n",
    "# Recondition covariance\n",
    "u, s, vh = np.linalg.svd(cov_mat, full_matrices=True)\n",
    "K = 10000\n",
    "if np.max(s)/np.min(s) < K:\n",
    "    cov2 = cov_mat\n",
    "else:\n",
    "    s_max = s[0]\n",
    "    min_acceptable = s_max/K\n",
    "    s2 = np.copy(s)\n",
    "    s2[s <= min_acceptable] = min_acceptable\n",
    "    cov2 = np.matmul(u, np.matmul(np.diag(s2), vh))\n"
   ]
  },
  {
   "cell_type": "code",
   "execution_count": null,
   "metadata": {},
   "outputs": [],
   "source": []
  },
  {
   "cell_type": "code",
   "execution_count": 81,
   "metadata": {},
   "outputs": [
    {
     "name": "stdout",
     "output_type": "stream",
     "text": [
      "Epoch 1/5, Loss: 0.6165\n",
      "Epoch 2/5, Loss: 0.6549\n",
      "Epoch 3/5, Loss: 0.5868\n",
      "Epoch 4/5, Loss: 0.5764\n",
      "Epoch 5/5, Loss: 0.5998\n"
     ]
    }
   ],
   "source": [
    "import torch\n",
    "import torch.nn as nn\n",
    "from torch.utils.data import TensorDataset, DataLoader, WeightedRandomSampler\n",
    "\n",
    "class TwoLayerNet(nn.Module):\n",
    "    def __init__(self, input_size, hidden_size, output_size):\n",
    "        super(TwoLayerNet, self).__init__()\n",
    "        self.linear1 = nn.Linear(input_size, hidden_size)\n",
    "        self.tanh = nn.Tanh()\n",
    "        self.linear2 = nn.Linear(hidden_size, output_size)\n",
    "        self.softmax = nn.Softmax(dim=1)\n",
    "\n",
    "    def forward(self, x):\n",
    "        out = self.linear1(x)\n",
    "        out = self.tanh(out)\n",
    "        out = self.linear2(out)\n",
    "        out = self.softmax(out)\n",
    "        return out\n",
    "\n",
    "# Convert the input and label data to PyTorch tensors\n",
    "inputs = torch.tensor(X_train, dtype=torch.float32)\n",
    "labels = torch.tensor(y_train, dtype=torch.long)\n",
    "\n",
    "# Compute the class weights\n",
    "class_counts = torch.bincount(labels)\n",
    "num_samples = len(labels)\n",
    "class_weights = 1.0 / class_counts.float()\n",
    "sample_weights = class_weights[labels]\n",
    "\n",
    "# Create a sampler with balanced weights\n",
    "sampler = WeightedRandomSampler(weights=sample_weights, num_samples=num_samples, replacement=True)\n",
    "\n",
    "# Create a DataLoader with the sampler\n",
    "dataset = TensorDataset(inputs, labels)\n",
    "dataloader = DataLoader(dataset, batch_size=32, sampler=sampler)\n",
    "\n",
    "\n",
    "torch.manual_seed(0)\n",
    "\n",
    "# Create an instance\n",
    "net = TwoLayerNet(input_size=d, hidden_size=50, output_size=2)\n",
    "# Define the loss function and optimizer\n",
    "criterion = nn.CrossEntropyLoss()#weight=torch.tensor(weights)\n",
    "optimizer = torch.optim.Adam(net.parameters(), lr=0.001)#.01\n",
    "\n",
    "# Iterate over the training data in batches\n",
    "num_epochs = 5\n",
    "\n",
    "# Train the network for the specified number of epochs\n",
    "for epoch in range(num_epochs):\n",
    "    for inputs, labels in dataloader:\n",
    "        # Zero the gradients for this batch\n",
    "        optimizer.zero_grad()\n",
    "\n",
    "        # Compute the forward pass of the network\n",
    "        outputs = net(inputs)\n",
    "\n",
    "        # Compute the loss for this batch\n",
    "        loss = criterion(outputs, labels)\n",
    "\n",
    "        # Compute the gradients of the loss with respect to the parameters\n",
    "        loss.backward()\n",
    "\n",
    "        # Update the parameters using the optimizer\n",
    "        optimizer.step()\n",
    "    print(f\"Epoch {epoch+1}/{num_epochs}, Loss: {loss.item():.4f}\")"
   ]
  },
  {
   "cell_type": "code",
   "execution_count": 82,
   "metadata": {},
   "outputs": [
    {
     "name": "stdout",
     "output_type": "stream",
     "text": [
      "46/100 predictions are for positive class; really 55\n",
      "Balanced sampling. 73% accuracy\n"
     ]
    }
   ],
   "source": [
    "test_tensor = torch.tensor(X_test, dtype=torch.float32)\n",
    "\n",
    "with torch.no_grad():\n",
    "    outputs = net(test_tensor)\n",
    "\n",
    "n_test = X_test.shape[0]\n",
    "n_positive_preds = torch.sum(np.argmax(outputs, axis=1)==1).item()\n",
    "print(\"{}/{} predictions are for positive class; really {}\"\n",
    "    .format(n_positive_preds,n_test, np.sum(y_test==1)))\n",
    "Y_preds = torch.argmax(outputs, axis=1)\n",
    "print(\"Balanced sampling. {}% accuracy\".format(round(100*(np.sum(y_test==Y_preds.numpy())/n_test))))"
   ]
  },
  {
   "cell_type": "code",
   "execution_count": 83,
   "metadata": {},
   "outputs": [],
   "source": [
    "xloc = X_test[0:1]\n",
    "xloc_torch = torch.tensor(xloc, dtype=torch.float32).requires_grad_(True)\n",
    "y_pred = net(xloc_torch)[0,1]\n",
    "y_pred.backward()\n",
    "gradient = xloc_torch.grad.detach().numpy().reshape((d, 1))\n",
    "\n",
    "def neural_net(x):\n",
    "    output = net(x)[0,1] if x.shape[0]==1 else net(x)[:,1]\n",
    "    return output\n",
    "\n",
    "def compute_hessian(x):\n",
    "    if not torch.is_tensor(x):\n",
    "        x = torch.tensor(x, dtype=torch.float32)\n",
    "    hessian = torch.autograd.functional.hessian(neural_net, x)\n",
    "    hessian = hessian.reshape((d,d)).detach().numpy()\n",
    "    return hessian\n",
    "\n",
    "hessian = compute_hessian(xloc)\n",
    "def fmodel(x):\n",
    "    if not torch.is_tensor(x):\n",
    "        x = torch.tensor(x, dtype=torch.float32)\n",
    "    return neural_net(x).detach().numpy()"
   ]
  },
  {
   "cell_type": "code",
   "execution_count": 84,
   "metadata": {},
   "outputs": [],
   "source": [
    "# print(\"Class imbalance: {}\".format(100*(max(np.mean(y_test), 1-np.mean(y_test)))))\n",
    "# print(\"Estimation accuracy: {}\".format(np.mean((nn.predict(X_test) > 0.5)==y_test)*100))\n"
   ]
  },
  {
   "cell_type": "code",
   "execution_count": 85,
   "metadata": {},
   "outputs": [],
   "source": [
    "# xloc = X_test[0:1]  \n",
    "# def fmodel(xloc):\n",
    "#     return nn.predict_proba(xloc)[:,1]\n"
   ]
  },
  {
   "cell_type": "code",
   "execution_count": 86,
   "metadata": {},
   "outputs": [
    {
     "name": "stdout",
     "output_type": "stream",
     "text": [
      "-0.34031945\n",
      "-0.34014217331407215\n"
     ]
    }
   ],
   "source": [
    "shap_CV_true_indep = compute_true_shap_cv_indep(xloc, gradient, hessian, feature_means, cov_mat, mapping_dict=mapping_dict)\n",
    "sum_shap_CV_true = np.sum(shap_CV_true_indep)\n",
    "avg_CV_empirical = np.mean(f_second_order_approx(fmodel(xloc),X_train, xloc, gradient, hessian))\n",
    "pred = fmodel(xloc)#[0]\n",
    "exp_CV_sum_empirical = pred - avg_CV_empirical\n",
    "print(sum_shap_CV_true)\n",
    "print(exp_CV_sum_empirical)\n"
   ]
  },
  {
   "cell_type": "code",
   "execution_count": 87,
   "metadata": {},
   "outputs": [
    {
     "name": "stdout",
     "output_type": "stream",
     "text": [
      "[75. 79. 86. 73. 80. 71. 74. 89. 83. 80. 66. 75. 38. 91. 47. 94. 86.  0.\n",
      " 56. 53.]\n"
     ]
    }
   ],
   "source": [
    "independent_features = True\n",
    "obj_ss = cv_shapley_sampling(fmodel, X_train, xloc, \n",
    "                        independent_features,\n",
    "                        gradient, hessian,\n",
    "                        mapping_dict=mapping_dict,\n",
    "                        M=100, n_samples_per_perm=10) # M is number of permutations\n",
    "final_ests, vshap_ests_model, vshap_ests_CV, corr_ests = obj_ss\n",
    "\n",
    "order = np.argsort(np.abs(final_ests))[::-1]\n",
    "print(np.round(100*(np.maximum(corr_ests, 0)**2)[order])) # Variance reductions\n"
   ]
  },
  {
   "cell_type": "code",
   "execution_count": 88,
   "metadata": {},
   "outputs": [
    {
     "name": "stdout",
     "output_type": "stream",
     "text": [
      "[90. 83. 86. 90. 90. 84. 88. 72. 77. 87. 84. 84. 81. 90. 84. 87. 83. 86.\n",
      " 78. 88.]\n"
     ]
    }
   ],
   "source": [
    "independent_features = True\n",
    "obj_kshap = cv_kshap(fmodel, X_train, xloc, \n",
    "            independent_features,\n",
    "            gradient, hessian,\n",
    "            mapping_dict=mapping_dict,var_method=\"wls\",\n",
    "            M=1000, n_samples_per_perm=10)\n",
    "final_ests, vshap_ests_model, vshap_ests_CV, corr_ests = obj_kshap\n",
    "\n",
    "order = np.argsort(np.abs(final_ests))[::-1]\n",
    "print(np.round(100*(np.maximum(corr_ests,0)**2)[order])) # Variance reductions"
   ]
  },
  {
   "cell_type": "code",
   "execution_count": 89,
   "metadata": {},
   "outputs": [
    {
     "name": "stdout",
     "output_type": "stream",
     "text": [
      "[14  9  5  6 19  8  4 18 11  2 12 13 15  0  7  1  3 16 17 10]\n",
      "[14  9  6  5  8 19  4 18 11 12  2 10  0 13  7 17  1  3 16 15]\n",
      "[14  9  5 19  6 18  8  4 13 12  2 11  0 15 16  7  1 17 10  3]\n"
     ]
    }
   ],
   "source": [
    "print(np.argsort(np.abs(final_ests))[::-1])\n",
    "print(np.argsort(np.abs(vshap_ests_model))[::-1])\n",
    "print(np.argsort(np.abs(shap_CV_true_indep).reshape(-1))[::-1])"
   ]
  },
  {
   "cell_type": "code",
   "execution_count": 90,
   "metadata": {},
   "outputs": [],
   "source": [
    "# Prepare for dependent sampling\n",
    "M_linear = 1000\n",
    "D_matrices = make_all_lundberg_matrices(M_linear, cov2)"
   ]
  },
  {
   "cell_type": "code",
   "execution_count": 91,
   "metadata": {},
   "outputs": [
    {
     "name": "stdout",
     "output_type": "stream",
     "text": [
      "[89. 84. 86. 79. 80. 82. 88. 84. 92. 88. 82. 90. 92. 77. 89. 86. 86. 89.\n",
      " 91. 88.]\n"
     ]
    }
   ],
   "source": [
    "independent_features = False\n",
    "shap_CV_true_dep = linear_shap_vals(xloc, D_matrices, feature_means, gradient, mapping_dict=mapping_dict)\n",
    "obj_dep = cv_shapley_sampling(fmodel, X_train, xloc,\n",
    "                    independent_features,\n",
    "                    gradient,\n",
    "                    mapping_dict=mapping_dict,\n",
    "                    shap_CV_true=shap_CV_true_dep, # Equivalently, can give D_matrices instead\n",
    "                    M=100,n_samples_per_perm=10,\n",
    "                    cov_mat=cov2)\n",
    "final_ests, vshap_ests_model, vshap_ests_CV, corr_ests = obj_dep\n",
    "order = np.argsort(np.abs(final_ests))[::-1]\n",
    "print(np.round(100*(np.maximum(corr_ests,0)**2)[order])) # Variance reductions"
   ]
  },
  {
   "cell_type": "code",
   "execution_count": 92,
   "metadata": {},
   "outputs": [
    {
     "name": "stdout",
     "output_type": "stream",
     "text": [
      "[14 19  4 18  8  9  5 11  6 12 17  2 15  0  3 13  1 10 16  7]\n",
      "[14 19  5 18  4  8  9  6 11 17 12  2 13  1  0 15  3  7 16 10]\n",
      "[14 19 18  9  4  8  5 12 11 13 17  6 16 15  1 10  0  2  3  7]\n"
     ]
    }
   ],
   "source": [
    "print(np.argsort(np.abs(final_ests))[::-1])\n",
    "print(np.argsort(np.abs(vshap_ests_model))[::-1])\n",
    "print(np.argsort(np.abs(shap_CV_true_dep))[::-1])"
   ]
  },
  {
   "cell_type": "code",
   "execution_count": null,
   "metadata": {},
   "outputs": [],
   "source": []
  },
  {
   "cell_type": "code",
   "execution_count": 93,
   "metadata": {},
   "outputs": [
    {
     "name": "stdout",
     "output_type": "stream",
     "text": [
      "[90. 91. 87. 93. 93. 93. 91. 93. 92. 93. 90. 92. 92. 93. 92. 94. 90. 94.\n",
      " 93. 92.]\n"
     ]
    }
   ],
   "source": [
    "# Sometimes get negligible variance reductions from bootstrapped covariance, but good ones from WLS\n",
    "np.random.seed(2)\n",
    "independent_features = False\n",
    "obj_kshap_dep = cv_kshap(fmodel, X_train, xloc,\n",
    "                    independent_features,\n",
    "                    gradient,\n",
    "                    mapping_dict=mapping_dict,\n",
    "                    shap_CV_true=shap_CV_true_dep,\n",
    "                    M=1000,n_samples_per_perm=10, var_method=\"wls\",\n",
    "                    cov_mat=cov2)\n",
    "final_ests, vshap_ests_model, vshap_ests_CV, corr_ests = obj_kshap_dep\n",
    "order = np.argsort(np.abs(final_ests))[::-1]\n",
    "print(np.round(100*(np.maximum(corr_ests,0)**2)[order])) # Variance reductions"
   ]
  },
  {
   "cell_type": "code",
   "execution_count": 94,
   "metadata": {},
   "outputs": [
    {
     "name": "stdout",
     "output_type": "stream",
     "text": [
      "[14 19 18  9  4  8  5 11  6 12 17  2 15  1  3 10  0 16 13  7]\n",
      "[14 19  5 18  6 11  9  4  8 12  2  3 10 15 17  0 13  1 16  7]\n",
      "[14 19 18  9  4  8  5 12 11 13 17  6 16 15  1 10  0  2  3  7]\n"
     ]
    }
   ],
   "source": [
    "print(np.argsort(np.abs(final_ests))[::-1])\n",
    "print(np.argsort(np.abs(vshap_ests_model))[::-1])\n",
    "print(np.argsort(np.abs(shap_CV_true_dep))[::-1])"
   ]
  },
  {
   "cell_type": "code",
   "execution_count": null,
   "metadata": {},
   "outputs": [],
   "source": []
  }
 ],
 "metadata": {
  "interpreter": {
   "hash": "768407c71a286f507fab4bce553d71b5cbd766c247b76eb598ef769225202bc3"
  },
  "kernelspec": {
   "display_name": "Python 3.9.16 ('shap')",
   "language": "python",
   "name": "python3"
  },
  "language_info": {
   "codemirror_mode": {
    "name": "ipython",
    "version": 3
   },
   "file_extension": ".py",
   "mimetype": "text/x-python",
   "name": "python",
   "nbconvert_exporter": "python",
   "pygments_lexer": "ipython3",
   "version": "3.9.16"
  },
  "orig_nbformat": 4
 },
 "nbformat": 4,
 "nbformat_minor": 2
}

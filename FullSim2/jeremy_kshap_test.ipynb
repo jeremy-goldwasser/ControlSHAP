{
 "cells": [
  {
   "cell_type": "code",
   "execution_count": 2,
   "metadata": {},
   "outputs": [
    {
     "name": "stderr",
     "output_type": "stream",
     "text": [
      "/Users/jeremygoldwasser/opt/anaconda3/envs/shap/lib/python3.9/site-packages/tqdm/auto.py:21: TqdmWarning: IProgress not found. Please update jupyter and ipywidgets. See https://ipywidgets.readthedocs.io/en/stable/user_install.html\n",
      "  from .autonotebook import tqdm as notebook_tqdm\n"
     ]
    }
   ],
   "source": [
    "#%% Import moduldes\n",
    "\n",
    "import numpy as np\n",
    "import shap\n",
    "import pandas as pd\n",
    "from sklearn.linear_model import LogisticRegression\n",
    "import sys\n",
    "\n",
    "from helper2 import *\n",
    "from helper2_dep import *\n",
    "from helper2_indep import *\n",
    "from helper2_shapley_sampling import *\n",
    "from helper4_kshap import *\n",
    "from helper_sim2 import *\n",
    "from os.path import join\n",
    "import matplotlib.pyplot as plt\n",
    "from sklearn.ensemble import RandomForestClassifier\n",
    "\n",
    "from sklearn.model_selection import train_test_split\n",
    "\n",
    "n_pts = 40\n",
    "nsim_per_point = 50\n",
    "M=1000\n",
    "n_samples_per_perm=[10,1]  # 1st for Kernel Shap, 2nd for Shapley Sampling\n",
    "K=50\n",
    "n_boot=100\n"
   ]
  },
  {
   "cell_type": "code",
   "execution_count": 3,
   "metadata": {},
   "outputs": [
    {
     "name": "stdout",
     "output_type": "stream",
     "text": [
      "Class imbalance: 88.29904888299049\n",
      "Estimation accuracy: 90.22340190223403\n"
     ]
    }
   ],
   "source": [
    "name = \"bank\"\n",
    "mod = \"glm\"\n",
    "fname = name+\"_\"+mod\n",
    "X_train, y_train, X_test, y_test, mapping_dict = loaddata(name)\n",
    "\n",
    "mean = X_train.mean(axis=0)\n",
    "std = X_train.std(axis=0)\n",
    "X_train = (X_train - mean) / std\n",
    "# X_val = (X_val - mean) / std\n",
    "X_test = (X_test - mean) / std\n",
    "d = X_train.shape[1]\n",
    "\n",
    "feature_means = np.mean(X_train, axis=0)\n",
    "cov_mat = np.cov(X_train, rowvar=False)\n",
    "    \n",
    "cov_mat = correct_cov(cov_mat,Kr=10000)\n",
    "\n",
    "M_linear = 1000\n",
    "D_matrices = make_all_lundberg_matrices(M_linear, cov_mat)\n",
    "\n",
    "\n",
    "#%% Train model\n",
    "\n",
    "model, gradfn, hessfn, sds = fitmodgradhess(mod,X_train,y_train,X_test,y_test)\n",
    "\n",
    "\n",
    "#%% Run simulation\n",
    "\n",
    "X_locs = X_test[np.random.choice(X_test.shape[0],n_pts,replace=False)]"
   ]
  },
  {
   "cell_type": "code",
   "execution_count": 52,
   "metadata": {},
   "outputs": [
    {
     "name": "stderr",
     "output_type": "stream",
     "text": [
      "covariance is not positive-semidefinite.\n",
      "covariance is not positive-semidefinite.\n",
      "covariance is not positive-semidefinite.\n",
      "covariance is not positive-semidefinite.\n",
      "covariance is not positive-semidefinite.\n",
      "covariance is not positive-semidefinite.\n",
      "divide by zero encountered in divide\n",
      "invalid value encountered in matmul\n",
      "divide by zero encountered in divide\n",
      "invalid value encountered in matmul\n",
      "covariance is not positive-semidefinite.\n",
      "covariance is not positive-semidefinite.\n",
      "covariance is not positive-semidefinite.\n",
      "covariance is not positive-semidefinite.\n"
     ]
    }
   ],
   "source": [
    "%run helper4_kshap\n",
    "n_pts = X_locs.shape[0]\n",
    "X = X_train\n",
    "d = X.shape[1]\n",
    "\n",
    "feature_means = np.mean(X, axis=0)\n",
    "\n",
    "kshaps_indep = []\n",
    "kshaps_dep = []\n",
    "sss_indep = []\n",
    "sss_dep = []\n",
    "i = 20\n",
    "j = 0\n",
    "xloci = X_locs[i].reshape((1,d))\n",
    "\n",
    "gradient = gradfn(model,xloci,sds)\n",
    "hessian = hessfn(model,xloci,sds)\n",
    "\n",
    "shap_CV_true_indep = compute_true_shap_cv_indep(xloci, gradient, hessian, feature_means, cov_mat, mapping_dict)\n",
    "shap_CV_true_dep = linear_shap_vals(xloci, D_matrices, feature_means, gradient,mapping_dict=mapping_dict)\n",
    "\n",
    "sims_kshap_indep = []\n",
    "sims_kshap_dep = []\n",
    "np.random.seed(2)\n",
    "for j in range(10):\n",
    "    # independent_features=True\n",
    "    # obj_kshap_indep = cv_kshap_compare(model, X, xloci,\n",
    "    #                     independent_features,\n",
    "    #                     gradient, hessian,\n",
    "    #                     shap_CV_true=shap_CV_true_indep,\n",
    "    #                     M=M, n_samples_per_perm=n_samples_per_perm[0], K = K, n_boot=n_boot,\n",
    "    #                     mapping_dict=mapping_dict)  \n",
    "    # sims_kshap_indep.append(obj_kshap_indep)\n",
    "    independent_features=False\n",
    "    obj_kshap_dep = cv_kshap_compare(model, X, xloci,\n",
    "                    independent_features,\n",
    "                    gradient, \n",
    "                    shap_CV_true=shap_CV_true_dep,\n",
    "                    M=M, n_samples_per_perm=n_samples_per_perm[0], K = K, n_boot=n_boot,\n",
    "                    mapping_dict=mapping_dict)  \n",
    "    sims_kshap_dep.append(obj_kshap_dep)"
   ]
  },
  {
   "cell_type": "code",
   "execution_count": 54,
   "metadata": {},
   "outputs": [
    {
     "ename": "IndexError",
     "evalue": "too many indices for array: array is 1-dimensional, but 3 were indexed",
     "output_type": "error",
     "traceback": [
      "\u001b[0;31m---------------------------------------------------------------------------\u001b[0m",
      "\u001b[0;31mIndexError\u001b[0m                                Traceback (most recent call last)",
      "Cell \u001b[0;32mIn[54], line 4\u001b[0m\n\u001b[1;32m      1\u001b[0m \u001b[38;5;66;03m# obj_kshap_indep\u001b[39;00m\n\u001b[1;32m      2\u001b[0m \u001b[38;5;66;03m# return vanilla_kshap_model, vanilla_kshap_CV, final_kshap_est_boot, corrs_boot, final_kshap_est_grouped, corrs_grouped, final_kshap_est_wls, corrs_wls\u001b[39;00m\n\u001b[1;32m      3\u001b[0m kshaps_indep \u001b[38;5;241m=\u001b[39m np\u001b[38;5;241m.\u001b[39marray(sims_kshap_indep)\n\u001b[0;32m----> 4\u001b[0m np\u001b[38;5;241m.\u001b[39mmean(\u001b[43mkshaps_indep\u001b[49m\u001b[43m[\u001b[49m\u001b[43m:\u001b[49m\u001b[43m,\u001b[49m\u001b[38;5;241;43m7\u001b[39;49m\u001b[43m,\u001b[49m\u001b[43m:\u001b[49m\u001b[43m]\u001b[49m, axis\u001b[38;5;241m=\u001b[39m\u001b[38;5;241m0\u001b[39m) \u001b[38;5;66;03m# Mean corrs for all features\u001b[39;00m\n\u001b[1;32m      5\u001b[0m \u001b[38;5;28mprint\u001b[39m(kshaps_indep\u001b[38;5;241m.\u001b[39mshape)\n\u001b[1;32m      6\u001b[0m vars_kshap_indep \u001b[38;5;241m=\u001b[39m np\u001b[38;5;241m.\u001b[39mvar(kshaps_indep,axis\u001b[38;5;241m=\u001b[39m\u001b[38;5;241m0\u001b[39m)\n",
      "\u001b[0;31mIndexError\u001b[0m: too many indices for array: array is 1-dimensional, but 3 were indexed"
     ]
    }
   ],
   "source": [
    "# obj_kshap_indep\n",
    "# return vanilla_kshap_model, vanilla_kshap_CV, final_kshap_est_boot, corrs_boot, final_kshap_est_grouped, corrs_grouped, final_kshap_est_wls, corrs_wls\n",
    "kshaps_indep = np.array(sims_kshap_indep)\n",
    "np.mean(kshaps_indep[:,7,:], axis=0) # Mean corrs for all features\n",
    "print(kshaps_indep.shape)\n",
    "vars_kshap_indep = np.var(kshaps_indep,axis=0)\n",
    "print(1-vars_kshap_indep[2]/vars_kshap_indep[0]) # Empirical variance reductions - bootstrapping\n",
    "print(1-vars_kshap_indep[6]/vars_kshap_indep[0]) # LS\n",
    "print(np.sum(np.isnan(kshaps_indep[:,6:,:]))) # No NAs in LS columns\n"
   ]
  },
  {
   "cell_type": "code",
   "execution_count": 55,
   "metadata": {},
   "outputs": [
    {
     "data": {
      "text/plain": [
       "(0,)"
      ]
     },
     "execution_count": 55,
     "metadata": {},
     "output_type": "execute_result"
    }
   ],
   "source": []
  },
  {
   "cell_type": "code",
   "execution_count": 57,
   "metadata": {},
   "outputs": [
    {
     "name": "stdout",
     "output_type": "stream",
     "text": [
      "(10, 8, 16)\n",
      "[ 0.35283415  0.62007621  0.72163247  0.48711706  0.93208355  0.76217623\n",
      "  0.76849598  0.49928625  0.80556332  0.74672616 -0.05344396  0.64787705\n",
      "  0.69603208  0.71939765 -0.88379903  0.53647138]\n",
      "[ 0.4298634   0.60062281  0.73987711  0.51046418  0.92528976  0.83268213\n",
      "  0.77403821  0.50169739  0.80003621  0.80358091  0.00710952  0.54792657\n",
      "  0.22615709  0.74408673 -2.66772811  0.55641018]\n"
     ]
    }
   ],
   "source": [
    "kshaps_dep = np.array(sims_kshap_dep)\n",
    "np.mean(kshaps_dep[:,7,:], axis=0) # Mean corrs for all features\n",
    "print(kshaps_dep.shape)\n",
    "vars_kshap_dep = np.var(kshaps_dep,axis=0)\n",
    "print(1-vars_kshap_dep[2]/vars_kshap_dep[0]) # Empirical variance reductions - bootstrapping\n",
    "print(1-vars_kshap_dep[6]/vars_kshap_dep[0]) # LS\n"
   ]
  },
  {
   "cell_type": "code",
   "execution_count": null,
   "metadata": {},
   "outputs": [],
   "source": [
    "np.sum()"
   ]
  },
  {
   "cell_type": "code",
   "execution_count": null,
   "metadata": {},
   "outputs": [],
   "source": []
  }
 ],
 "metadata": {
  "interpreter": {
   "hash": "768407c71a286f507fab4bce553d71b5cbd766c247b76eb598ef769225202bc3"
  },
  "kernelspec": {
   "display_name": "Python 3.9.16 ('shap')",
   "language": "python",
   "name": "python3"
  },
  "language_info": {
   "codemirror_mode": {
    "name": "ipython",
    "version": 3
   },
   "file_extension": ".py",
   "mimetype": "text/x-python",
   "name": "python",
   "nbconvert_exporter": "python",
   "pygments_lexer": "ipython3",
   "version": "3.9.16"
  },
  "orig_nbformat": 4
 },
 "nbformat": 4,
 "nbformat_minor": 2
}

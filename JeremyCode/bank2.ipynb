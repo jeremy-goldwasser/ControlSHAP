{
 "cells": [
  {
   "cell_type": "code",
   "execution_count": 50,
   "metadata": {},
   "outputs": [],
   "source": [
    "# pd.get_dummies\n",
    "import numpy as np\n",
    "import matplotlib.pyplot as plt\n",
    "import pickle\n",
    "\n",
    "import sage\n",
    "from sklearn.model_selection import train_test_split\n",
    "import pandas as pd"
   ]
  },
  {
   "cell_type": "code",
   "execution_count": 70,
   "metadata": {},
   "outputs": [
    {
     "data": {
      "text/plain": [
       "{0: [0],\n",
       " 1: [10, 11, 12, 13, 14, 15, 16, 17, 18, 19, 20, 21],\n",
       " 2: [22, 23, 24],\n",
       " 3: [25, 26, 27, 28],\n",
       " 4: [1],\n",
       " 5: [2],\n",
       " 6: [3],\n",
       " 7: [4],\n",
       " 8: [29, 30, 31],\n",
       " 9: [5],\n",
       " 10: [32, 33, 34, 35, 36, 37, 38, 39, 40, 41, 42, 43],\n",
       " 11: [6],\n",
       " 12: [7],\n",
       " 13: [8],\n",
       " 14: [9],\n",
       " 15: [44, 45, 46, 47]}"
      ]
     },
     "execution_count": 70,
     "metadata": {},
     "output_type": "execute_result"
    }
   ],
   "source": [
    "# Preprocess data\n",
    "df_orig = sage.datasets.bank()\n",
    "df = df_orig.drop([\"Success\"], axis=1)\n",
    "df.Default = df.Default.map({'no': 0, 'yes': 1})\n",
    "df.Housing = df.Housing.map({'no': 0, 'yes': 1})\n",
    "df.Loan = df.Loan.map({'no': 0, 'yes': 1})\n",
    "df.columns = df.columns.str.replace(' ', '_')\n",
    "X_binarized = pd.get_dummies(df)\n",
    "\n",
    "# Get mapping dict\n",
    "mapping_dict = {}\n",
    "for i, col in enumerate(df.columns):\n",
    "    bin_cols = []\n",
    "    for j, bin_col in enumerate(X_binarized.columns):\n",
    "        if bin_col.startswith(col):\n",
    "            bin_cols.append(j)\n",
    "    mapping_dict[i] = bin_cols\n",
    "mapping_dict\n",
    "\n",
    "# That's literally it. Note this mapping dict is a little different."
   ]
  },
  {
   "cell_type": "code",
   "execution_count": null,
   "metadata": {},
   "outputs": [],
   "source": []
  },
  {
   "cell_type": "code",
   "execution_count": 66,
   "metadata": {},
   "outputs": [
    {
     "data": {
      "text/plain": [
       "array([ True,  True,  True,  True,  True,  True,  True,  True,  True,\n",
       "        True,  True,  True,  True,  True,  True,  True,  True,  True,\n",
       "        True,  True,  True,  True,  True,  True,  True,  True,  True,\n",
       "        True,  True,  True,  True,  True,  True,  True,  True,  True,\n",
       "        True,  True,  True,  True,  True,  True,  True,  True,  True,\n",
       "        True,  True,  True])"
      ]
     },
     "execution_count": 66,
     "metadata": {},
     "output_type": "execute_result"
    }
   ],
   "source": [
    "from os.path import join\n",
    "\n",
    "X_df = pd.read_csv(join(\"../Data/Bank\", \"X_df.csv\"))\n",
    "X_df.columns==X_binarized.columns"
   ]
  },
  {
   "cell_type": "code",
   "execution_count": null,
   "metadata": {},
   "outputs": [],
   "source": []
  }
 ],
 "metadata": {
  "interpreter": {
   "hash": "768407c71a286f507fab4bce553d71b5cbd766c247b76eb598ef769225202bc3"
  },
  "kernelspec": {
   "display_name": "Python 3.9.16 ('shap')",
   "language": "python",
   "name": "python3"
  },
  "language_info": {
   "codemirror_mode": {
    "name": "ipython",
    "version": 3
   },
   "file_extension": ".py",
   "mimetype": "text/x-python",
   "name": "python",
   "nbconvert_exporter": "python",
   "pygments_lexer": "ipython3",
   "version": "3.9.16"
  },
  "orig_nbformat": 4
 },
 "nbformat": 4,
 "nbformat_minor": 2
}

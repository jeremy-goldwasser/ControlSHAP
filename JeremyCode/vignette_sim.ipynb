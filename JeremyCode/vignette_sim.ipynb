{
 "cells": [
  {
   "cell_type": "code",
   "execution_count": 2,
   "metadata": {},
   "outputs": [],
   "source": [
    "import numpy as np\n",
    "from helper import *\n",
    "from helper_dep import *\n",
    "from helper_indep import *\n",
    "from helper_shapley_sampling import *\n",
    "from helper_kshap import *\n",
    "import matplotlib.pyplot as plt\n",
    "from scipy import stats\n",
    "\n",
    "from os.path import join\n",
    "import warnings \n",
    "\n",
    "warnings.filterwarnings('ignore')"
   ]
  },
  {
   "cell_type": "markdown",
   "metadata": {},
   "source": [
    "## Generate data\n",
    "### Data will have dependency, but we'll run both methods on it"
   ]
  },
  {
   "cell_type": "code",
   "execution_count": 3,
   "metadata": {},
   "outputs": [],
   "source": [
    "d = 10\n",
    "FEATURE_MEANS = np.repeat(0, d)\n",
    "FEATURE_VARS = np.repeat(1, d)\n",
    "FEATURE_COVS = [0.5, 0.25]\n",
    "COV_MAT = make_banded_cov(FEATURE_VARS, FEATURE_COVS)\n",
    "\n",
    "# Randomly generate samples\n",
    "np.random.seed(1)\n",
    "X = np.random.multivariate_normal(FEATURE_MEANS, COV_MAT, size=1000)\n",
    "feature_means = np.mean(X, axis=0)\n",
    "cov_mat = np.cov(X, rowvar=False)\n",
    "xloc = np.random.multivariate_normal(FEATURE_MEANS, COV_MAT, size=1)"
   ]
  },
  {
   "cell_type": "markdown",
   "metadata": {},
   "source": [
    "## Define Logistic Regression model\n",
    "- All we need is the $d$ coefficients\n",
    "- We don't need to actually fit the model; pretend it represents some $\\{(X_i,Y_i)\\}_{i=1}^n$"
   ]
  },
  {
   "cell_type": "code",
   "execution_count": 10,
   "metadata": {},
   "outputs": [],
   "source": [
    "np.random.seed(1)\n",
    "BETA = np.random.normal(0, 1, size = d)\n",
    "def model(x):\n",
    "    yhat = sigmoid(np.dot(x, BETA))\n",
    "    return yhat.item() if x.shape[0]==1 else yhat"
   ]
  },
  {
   "cell_type": "markdown",
   "metadata": {},
   "source": [
    "### Compute gradient & hessian of model w.r.t. local x"
   ]
  },
  {
   "cell_type": "code",
   "execution_count": 11,
   "metadata": {},
   "outputs": [],
   "source": [
    "gradient = logreg_gradient(model, xloc, BETA)\n",
    "hessian = logreg_hessian(model, xloc, BETA)"
   ]
  },
  {
   "cell_type": "markdown",
   "metadata": {},
   "source": [
    "# Assume Independent Features\n",
    "### Compute SHAP values of the quadratic approximation; verify they add up to $f(x)-Ef(X)$"
   ]
  },
  {
   "cell_type": "code",
   "execution_count": 61,
   "metadata": {},
   "outputs": [
    {
     "name": "stdout",
     "output_type": "stream",
     "text": [
      "0.5683931171940729\n",
      "0.568025859116221\n"
     ]
    }
   ],
   "source": [
    "avg_CV_empirical = np.mean(f_second_order_approx(model,X, xloc, gradient, hessian))\n",
    "pred = model(xloc)\n",
    "exp_CV_sum_empirical = pred - avg_CV_empirical\n",
    "shap_CV_true_indep = compute_true_shap_cv_indep(xloc, gradient, hessian, feature_means, cov_mat)\n",
    "sum_shap_CV_true = np.sum(shap_CV_true_indep)\n",
    "print(sum_shap_CV_true)\n",
    "print(exp_CV_sum_empirical) # Yes, they're extremely close"
   ]
  },
  {
   "cell_type": "markdown",
   "metadata": {},
   "source": [
    "## Shapley Sampling values, assuming independent features\n",
    "### Specify number of permutations\n",
    "- Don't need to give it true SHAP values of control variate; it computes them inside the function as above."
   ]
  },
  {
   "cell_type": "code",
   "execution_count": 45,
   "metadata": {},
   "outputs": [
    {
     "name": "stdout",
     "output_type": "stream",
     "text": [
      "[0.74841213 0.58340116 0.71671543 0.76364799 0.73335419 0.61385518\n",
      " 0.60401438 0.4686495  0.49178817 0.45943482]\n",
      "[56. 34. 51. 58. 54. 38. 36. 22. 24. 21.]\n"
     ]
    }
   ],
   "source": [
    "np.random.seed(1)\n",
    "independent_features = True\n",
    "obj_ss = cv_shapley_sampling(model, X, xloc, \n",
    "                        independent_features,\n",
    "                        gradient, hessian,\n",
    "                        M=100, n_samples_per_perm=10) # M is number of permutations\n",
    "final_ests, vshap_ests_model, vshap_ests_CV, corr_ests = obj_ss\n",
    "print(corr_ests) # Pretty solid correlations\n",
    "print(np.round(100*(corr_ests**2))) # Variance reductions"
   ]
  },
  {
   "cell_type": "markdown",
   "metadata": {},
   "source": [
    "### Run until convergence\n",
    "- A SHAP estimate converges when its standard deviation, normalized by its absolute value, is below the given threshold.\n",
    "- Features with lowest SHAP values take longest to converge "
   ]
  },
  {
   "cell_type": "code",
   "execution_count": 46,
   "metadata": {},
   "outputs": [
    {
     "name": "stdout",
     "output_type": "stream",
     "text": [
      "Converged with 2850 samples.\n",
      "Converged with 200 samples.\n",
      "Converged with 100 samples.\n",
      "Converged with 100 samples.\n",
      "Converged with 50 samples.\n",
      "Converged with 50 samples.\n",
      "Converged with 900 samples.\n",
      "Converged with 100 samples.\n",
      "Converged with 50 samples.\n",
      "Converged with 50 samples.\n",
      "[0.7292609  0.64567386 0.78242192 0.71646605 0.79788641 0.77825874\n",
      " 0.68160953 0.49530593 0.71042645 0.49918904]\n",
      "[5 4 3 7 9 2 6 1 8 0]\n"
     ]
    }
   ],
   "source": [
    "np.random.seed(1)\n",
    "%run helper_shapley_sampling\n",
    "obj_ss_auto = cv_shapley_sampling(model, X, xloc, \n",
    "                        independent_features,\n",
    "                        gradient, hessian,\n",
    "                        shap_CV_true=None, # Unnecessary; function calls compute_true_shap_cv_indep() \n",
    "                        M=None, n_samples_per_perm=10,\n",
    "                        t=0.1, n_intermediate=50, # t is cutoff threshold; n_intermediate is evaluation frequency\n",
    "                        verbose=True) # prints frequency of convergence for each feature\n",
    "final_ests, vshap_ests_model, vshap_ests_CV, corr_ests = obj_ss_auto\n",
    "print(corr_ests) # Similarly solid correlations\n",
    "print(rank_shap(final_ests)) # SHAP values, highest to lowest"
   ]
  },
  {
   "cell_type": "markdown",
   "metadata": {},
   "source": [
    "## KernelSHAP, Assuming Indepdent Features\n",
    "### Specifying number of permutations\n",
    "- Estimates variance and covariance of vanilla SHAP estimates via 250 bootstrapped samples. This is the default for kernelSHAP."
   ]
  },
  {
   "cell_type": "code",
   "execution_count": 47,
   "metadata": {},
   "outputs": [
    {
     "name": "stdout",
     "output_type": "stream",
     "text": [
      "[63. 67. 65. 64. 54. 59. 58. 67. 60. 54.]\n",
      "[5 4 7 3 9 2 1 0 6 8]\n"
     ]
    }
   ],
   "source": [
    "np.random.seed(1)\n",
    "obj_kshap = cv_kshap(model, X, xloc, \n",
    "            independent_features,\n",
    "            gradient, hessian,\n",
    "            M=1000, n_samples_per_perm=10, \n",
    "            var_method='boot', n_boot=250)\n",
    "final_ests, vshap_ests_model, vshap_ests_CV, corr_ests = obj_kshap\n",
    "print(np.round(100*(corr_ests**2))) # Variance reductions\n",
    "print(rank_shap(final_ests)) # Same ranking on important features"
   ]
  },
  {
   "cell_type": "markdown",
   "metadata": {},
   "source": [
    "### Run until convergence\n",
    "- KernelSHAP converges when \n",
    "$\\displaystyle \\frac{\\max_j \\sigma(\\hat{\\varphi}_j)}{\\max_j \\hat{\\varphi}_j - \\min_j \\hat{\\varphi}_j} < t$.\n",
    "\n",
    "    - That is, when the highest standard deviation of a feature, normalized by the difference between highest and lowest SHAP estimates, is below the given threshold."
   ]
  },
  {
   "cell_type": "code",
   "execution_count": 49,
   "metadata": {},
   "outputs": [
    {
     "name": "stdout",
     "output_type": "stream",
     "text": [
      "Converged with 300 samples.\n",
      "[83. 53. 65. 73. 49. 66. 78. 64. 61. 65.]\n",
      "[5 4 7 3 9 2 6 1 0 8]\n"
     ]
    }
   ],
   "source": [
    "np.random.seed(1)\n",
    "obj_kshap = cv_kshap(model, X, xloc, \n",
    "            independent_features,\n",
    "            gradient, hessian,\n",
    "            M=None,n_samples_per_perm=10,\n",
    "            t=0.05, n_intermediate=50,\n",
    "            verbose=True)\n",
    "final_ests, vshap_ests_model, vshap_ests_CV, corr_ests = obj_kshap\n",
    "print(np.round(100*(corr_ests**2))) # Variance reductions\n",
    "print(rank_shap(final_ests)) # Same ranking on important features"
   ]
  },
  {
   "cell_type": "markdown",
   "metadata": {},
   "source": [
    "### Grouped covariance\n",
    "- For more info on grouping, see the document I compiled."
   ]
  },
  {
   "cell_type": "code",
   "execution_count": 53,
   "metadata": {},
   "outputs": [
    {
     "name": "stdout",
     "output_type": "stream",
     "text": [
      "[80. 69. 92. 65. 64. 47. 29. 75. 32. 69.]\n",
      "[5 4 7 3 9 2 0 1 6 8]\n"
     ]
    }
   ],
   "source": [
    "np.random.seed(1)\n",
    "obj_kshap_grouped = cv_kshap(model, X, xloc, \n",
    "            independent_features,\n",
    "            gradient, hessian,\n",
    "            M=1000, n_samples_per_perm=10, \n",
    "            var_method='grouped', K=50)\n",
    "final_ests, vshap_ests_model, vshap_ests_CV, corr_ests = obj_kshap_grouped\n",
    "print(np.round(100*(corr_ests**2))) # Variance reductions\n",
    "print(rank_shap(final_ests)) # Same ranking on important features"
   ]
  },
  {
   "cell_type": "markdown",
   "metadata": {},
   "source": [
    "### WLS covariance\n",
    "- Something is clearly wrong with the estimated correlations, so WLS is not my method of choice.\n",
    "- Perhaps it's worth unboxing what's going on here. Not only are they the same for all features, they're all > 1 too."
   ]
  },
  {
   "cell_type": "code",
   "execution_count": 57,
   "metadata": {},
   "outputs": [
    {
     "name": "stdout",
     "output_type": "stream",
     "text": [
      "[1.91157776 1.91157776 1.91157776 1.91157776 1.91157776 1.91157776\n",
      " 1.91157776 1.91157776 1.91157776 1.91157776]\n",
      "[5 4 7 3 9 0 2 8 1 6]\n"
     ]
    }
   ],
   "source": [
    "np.random.seed(1)\n",
    "obj_kshap_wls = cv_kshap(model, X, xloc, \n",
    "            independent_features,\n",
    "            gradient, hessian,\n",
    "            M=1000, n_samples_per_perm=10, \n",
    "            var_method='wls')\n",
    "final_ests, vshap_ests_model, vshap_ests_CV, corr_ests = obj_kshap_wls\n",
    "print(corr_ests)\n",
    "print(rank_shap(final_ests))"
   ]
  },
  {
   "cell_type": "markdown",
   "metadata": {},
   "source": [
    "# Dependent Features methods\n",
    "## Estimate matrices used to approximate true SHAP values of linear model\n",
    "- This should be computationally intensive, since we can reuse it for many local x\n",
    "- Slow, since each permutation entails a matrix inversion"
   ]
  },
  {
   "cell_type": "code",
   "execution_count": 59,
   "metadata": {},
   "outputs": [],
   "source": [
    "D_matrices = make_all_lundberg_matrices(10000, cov_mat) # Takes a while\n"
   ]
  },
  {
   "cell_type": "markdown",
   "metadata": {},
   "source": [
    "### Compute almost-true SHAP values of linear model; verify their sum is close to $f(x)-Ef(X)$"
   ]
  },
  {
   "cell_type": "code",
   "execution_count": 60,
   "metadata": {},
   "outputs": [
    {
     "name": "stdout",
     "output_type": "stream",
     "text": [
      "0.1728154269465002\n",
      "0.17172542971053537\n"
     ]
    }
   ],
   "source": [
    "avg_CV_empirical = np.mean(f_first_order_approx(model,X, xloc, gradient))\n",
    "pred = model(xloc)\n",
    "exp_CV_sum_empirical = pred - avg_CV_empirical\n",
    "\n",
    "avg_model_empirical = np.mean(model(X))\n",
    "exp_model_sum_empirical = pred - avg_model_empirical\n",
    "shap_CV_true_dep = linear_shap_vals(xloc, D_matrices, feature_means, gradient)\n",
    "sum_shap_CV_true = np.sum(shap_CV_true_dep)\n",
    "print(exp_CV_sum_empirical)\n",
    "print(sum_shap_CV_true)"
   ]
  },
  {
   "cell_type": "markdown",
   "metadata": {},
   "source": [
    "## Shapley Sampling values, assuming dependent features\n",
    "- For the sake of brevity, I won't show auto-convergence again."
   ]
  },
  {
   "cell_type": "code",
   "execution_count": 71,
   "metadata": {},
   "outputs": [
    {
     "name": "stdout",
     "output_type": "stream",
     "text": [
      "[0.93405594 0.94232004 0.96360638 0.94130982 0.93465167 0.95843532\n",
      " 0.93519812 0.94732707 0.9318815  0.96076575]\n",
      "[5 7 6 3 4 0 9 1 8 2]\n"
     ]
    }
   ],
   "source": [
    "np.random.seed(1)\n",
    "independent_features = False\n",
    "shap_CV_true_dep = linear_shap_vals(xloc, D_matrices, feature_means, gradient)\n",
    "obj_dep = cv_shapley_sampling(model, X, xloc,\n",
    "                    independent_features,\n",
    "                    gradient, # Don't need to give hessian, since CV is linear model \n",
    "                    shap_CV_true=shap_CV_true_dep, # Equivalently, can give D_matrices instead\n",
    "                    M=100,n_samples_per_perm=10)\n",
    "final_ests, vshap_ests_model, vshap_ests_CV, corr_ests = obj_dep\n",
    "print(corr_ests)\n",
    "print(rank_shap(final_ests))"
   ]
  },
  {
   "cell_type": "markdown",
   "metadata": {},
   "source": [
    "## KernelSHAP values, assuming dependent features\n",
    "- Recall default method for variance estimation is bootstrapping w/ 250 resamplings.\n",
    "    - For the sake of brevity, I won't show alternatives again."
   ]
  },
  {
   "cell_type": "code",
   "execution_count": 74,
   "metadata": {},
   "outputs": [
    {
     "name": "stdout",
     "output_type": "stream",
     "text": [
      "[0.93951184 0.94745438 0.94722257 0.94507995 0.92577878 0.94052093\n",
      " 0.93404105 0.92126558 0.92333779 0.92353307]\n",
      "[5 3 4 7 6 9 0 2 1 8]\n"
     ]
    }
   ],
   "source": [
    "np.random.seed(1)\n",
    "obj_kshap_dep = cv_kshap(model, X, xloc,\n",
    "                    independent_features,\n",
    "                    gradient,\n",
    "                    shap_CV_true=shap_CV_true_dep,\n",
    "                    M=1000,n_samples_per_perm=10)\n",
    "final_ests, vshap_ests_model, vshap_ests_CV, corr_ests = obj_kshap_dep\n",
    "print(corr_ests)\n",
    "print(rank_shap(final_ests))"
   ]
  },
  {
   "cell_type": "markdown",
   "metadata": {},
   "source": [
    "# Empirical variance reductions\n",
    "- We also can do this for Shapley Sampling or independent features. I'll just show it once, though.\n",
    "    - Takes ~20 seconds to run\n",
    "    \n",
    "### I present 2 ways of estimating the correlation\n",
    "1. \"Average correlation\" refers to taking the mean correlation across all iterations, for each feature\n",
    "    - We can do this because each iteration estimates the correlation between vanilla SHAP estimates of the model & its approximation\n",
    "2. \"Correlation between observations\" refers to taking the correlation between those vanilla SHAP estimates across all iterations\n",
    "    - Unsurprisingly, it's less stable and closer to the empirical variance reduction\n"
   ]
  },
  {
   "cell_type": "code",
   "execution_count": 76,
   "metadata": {},
   "outputs": [],
   "source": [
    "np.random.seed(1)\n",
    "n_iter = 50\n",
    "independent_features = False\n",
    "objs_kshap_dep = []\n",
    "for _ in range(n_iter):\n",
    "    obj_dep = cv_kshap(model, X, xloc,\n",
    "                    independent_features,\n",
    "                    gradient,\n",
    "                    shap_CV_true=shap_CV_true_dep,\n",
    "                    M=500,n_samples_per_perm=10)\n",
    "    objs_kshap_dep.append(obj_dep)"
   ]
  },
  {
   "cell_type": "code",
   "execution_count": 78,
   "metadata": {},
   "outputs": [
    {
     "name": "stdout",
     "output_type": "stream",
     "text": [
      "Empirical variance reductions:\n",
      "• [0.79 0.89 0.92 0.78 0.84 0.87 0.81 0.87 0.82 0.87]\n",
      "• Average:  0.85\n",
      "-------------------- \n",
      "Method 1: Estimating correlation for each iteration, then averaging\n",
      "Average correlations:\n",
      "•  [0.928 0.923 0.928 0.933 0.921 0.931 0.919 0.917 0.927 0.924]\n",
      "Theoretical variance reductions:\n",
      "• [0.86 0.85 0.86 0.87 0.85 0.87 0.84 0.84 0.86 0.85]\n",
      "• Average:  0.86\n",
      "-------------------- \n",
      "Method 2: Taking correlation of observed Shapley values\n",
      "Correlations\n",
      "•  [0.894 0.944 0.959 0.899 0.932 0.936 0.906 0.934 0.91  0.937]\n",
      "Theoretical variance reductions:\n",
      "• [0.8  0.89 0.92 0.81 0.87 0.88 0.82 0.87 0.83 0.88]\n",
      "• Average:  0.86\n"
     ]
    },
    {
     "data": {
      "image/png": "[encoded data removed]",
      "text/plain": [
       "<Figure size 800x600 with 1 Axes>"
      ]
     },
     "metadata": {},
     "output_type": "display_data"
    }
   ],
   "source": [
    "message = \"Dependent Features, KernelSHAP\"\n",
    "show_var_reducs(objs_kshap_dep, ylim_zero=True, message=message, verbose=True)"
   ]
  },
  {
   "cell_type": "code",
   "execution_count": null,
   "metadata": {},
   "outputs": [],
   "source": []
  },
  {
   "cell_type": "code",
   "execution_count": null,
   "metadata": {},
   "outputs": [],
   "source": []
  }
 ],
 "metadata": {
  "interpreter": {
   "hash": "768407c71a286f507fab4bce553d71b5cbd766c247b76eb598ef769225202bc3"
  },
  "kernelspec": {
   "display_name": "Python 3.9.12 ('shap')",
   "language": "python",
   "name": "python3"
  },
  "language_info": {
   "codemirror_mode": {
    "name": "ipython",
    "version": 3
   },
   "file_extension": ".py",
   "mimetype": "text/x-python",
   "name": "python",
   "nbconvert_exporter": "python",
   "pygments_lexer": "ipython3",
   "version": "3.9.16"
  },
  "orig_nbformat": 4
 },
 "nbformat": 4,
 "nbformat_minor": 2
}

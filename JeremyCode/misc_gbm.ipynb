{
 "cells": [
  {
   "cell_type": "code",
   "execution_count": 64,
   "metadata": {},
   "outputs": [],
   "source": [
    "import numpy as np\n",
    "import shap\n",
    "import pandas as pd\n",
    "from sklearn.linear_model import LogisticRegression\n",
    "import sys\n",
    "sys.path.append('../GilesCode/')\n",
    "from helper import *\n",
    "from helper2 import *\n",
    "from helper2_dep import *\n",
    "from helper2_indep import *\n",
    "from helper2_shapley_sampling import *\n",
    "from helper4_kshap import *\n",
    "from os.path import join\n",
    "import matplotlib.pyplot as plt\n",
    "import lightgbm as lgb\n",
    "from sklearn.model_selection import train_test_split"
   ]
  },
  {
   "cell_type": "markdown",
   "metadata": {},
   "source": [
    "### Logistic dataset"
   ]
  },
  {
   "cell_type": "code",
   "execution_count": 4,
   "metadata": {},
   "outputs": [],
   "source": [
    "# d = 10\n",
    "# FEATURE_MEANS = np.repeat(0, d)\n",
    "# FEATURE_VARS = np.repeat(1, d)\n",
    "# FEATURE_COVS = [0.5, 0.25]\n",
    "# COV_MAT = make_banded_cov(FEATURE_VARS, FEATURE_COVS)\n",
    "\n",
    "# # Randomly generate samples\n",
    "# np.random.seed(1)\n",
    "# X = np.random.multivariate_normal(FEATURE_MEANS, COV_MAT, size=10000)\n",
    "# X_train, X_test = X[:8000], X[8000:]\n",
    "# xloc = X_test[10].reshape((1,d))\n",
    "\n",
    "# np.random.seed(1)\n",
    "# BETA = np.random.normal(0, 1, size = d)\n",
    "# def model(x):\n",
    "#     yhat = sigmoid(np.dot(x, BETA))\n",
    "#     return yhat.item() if x.shape[0]==1 else yhat\n",
    "# y = (model(X) > 0.5).astype(int)\n",
    "# y_train, y_test = y[:8000], y[8000:]\n",
    "# mapping_dict = None"
   ]
  },
  {
   "cell_type": "markdown",
   "metadata": {},
   "source": [
    "### Census dataset"
   ]
  },
  {
   "cell_type": "code",
   "execution_count": 2,
   "metadata": {},
   "outputs": [],
   "source": [
    "# X, y = shap.datasets.adult()\n",
    "# X_display, y_display = shap.datasets.adult(display=True)\n",
    "# X_binarized = pd.get_dummies(X_display)\n",
    "\n",
    "# mapping_dict = {}\n",
    "# for i, col in enumerate(X_display.columns):\n",
    "#     bin_cols = []\n",
    "#     for j, bin_col in enumerate(X_binarized.columns):\n",
    "#         if bin_col.startswith(col):\n",
    "#             bin_cols.append(j)\n",
    "#     mapping_dict[i] = bin_cols\n",
    "\n",
    "# X_norm = (X_binarized-X_binarized.min())/(X_binarized.max()-X_binarized.min())\n",
    "# y_int = y_display.astype(\"int8\")\n",
    "\n",
    "# # Split into training and test sets\n",
    "# np.random.seed(1)\n",
    "# n, d = X_norm.shape\n",
    "# n_train = round(n*0.75)\n",
    "# train_idx = np.random.choice(n, size=n_train, replace=False)\n",
    "# X_train_pd, y_train = X_norm.iloc[train_idx], y_int[train_idx]\n",
    "# X_train = X_train_pd.to_numpy()\n",
    "\n",
    "# test_idx = np.setdiff1d(list(range(n)), train_idx)\n",
    "# X_test_pd, y_test = X_norm.iloc[test_idx], y_int[test_idx]\n",
    "# X_test = X_test_pd.to_numpy()\n"
   ]
  },
  {
   "cell_type": "markdown",
   "metadata": {},
   "source": [
    "### Bank dataset"
   ]
  },
  {
   "cell_type": "code",
   "execution_count": 3,
   "metadata": {},
   "outputs": [],
   "source": [
    "# dirpath = \"../Data/bank\"\n",
    "# # dirpath = /PATH/TO/DATA\n",
    "# df_orig = pd.read_csv(join(dirpath, \"df_orig.csv\"))\n",
    "\n",
    "# X_train_raw = np.load(join(dirpath, \"X_train.npy\"))\n",
    "# X_test_raw = np.load(join(dirpath, \"X_test.npy\"))\n",
    "# y_train = np.load(join(dirpath, \"Y_train.npy\"))\n",
    "# y_test = np.load(join(dirpath, \"Y_test.npy\"))\n",
    "# full_dim = X_train_raw.shape[1] # dimension including all binarized categorical columns\n",
    "# X_df = pd.read_csv(join(dirpath, \"X_df.csv\"))\n",
    "\n",
    "\n",
    "# trainmean, trainstd = np.mean(X_train_raw, axis=0), np.std(X_train_raw, axis=0)\n",
    "# def rescale(x, trainmean, trainstd):\n",
    "#     return (x - trainmean) / trainstd\n",
    "# X_train = rescale(X_train_raw, trainmean, trainstd)\n",
    "# X_test = rescale(X_test_raw, trainmean, trainstd)\n",
    "\n",
    "# feature_means = np.mean(X_train, axis=0)\n",
    "# cov_mat = np.cov(X_train, rowvar=False)\n",
    "\n",
    "\n",
    "# df_orig.columns = df_orig.columns.str.replace(' ', '_')\n",
    "# categorical_cols = ['Job', 'Marital', 'Education', 'Default', 'Housing',\n",
    "#                     'Loan', 'Contact', 'Month', 'Prev_Outcome']\n",
    "# mapping_dict = get_mapping_dict(df_orig, X_df, X_train_raw, categorical_cols)\n",
    "# mapping_dict\n",
    "\n",
    "# d = X_df.shape[1]\n"
   ]
  },
  {
   "cell_type": "markdown",
   "metadata": {},
   "source": [
    "### German Credit "
   ]
  },
  {
   "cell_type": "code",
   "execution_count": 14,
   "metadata": {},
   "outputs": [],
   "source": [
    "import sage\n",
    "df = sage.datasets.credit()\n",
    "# Property, other installment, housing, job, status of checking act, credit history, purpose, savings, employment since, marital status, old debtors\n",
    "n = df.shape[0]\n",
    "X_df = df.drop([\"Good Customer\"], axis=1)\n",
    "y = df[\"Good Customer\"]\n",
    "\n",
    "categorical_columns = [\n",
    "    'Checking Status', 'Credit History', 'Purpose', #'Credit Amount', # It's listed but has 923 unique values\n",
    "    'Savings Account/Bonds', 'Employment Since', 'Personal Status',\n",
    "    'Debtors/Guarantors', 'Property Type', 'Other Installment Plans',\n",
    "    'Housing Ownership', 'Job', #'Telephone', 'Foreign Worker' # These are just binary\n",
    "]\n",
    "X_binarized = pd.get_dummies(X_df, columns=categorical_columns)\n",
    "d_bin = X_binarized.shape[1]\n",
    "\n",
    "mapping_dict = {}\n",
    "for i, col in enumerate(X_df.columns):\n",
    "    bin_cols = []\n",
    "    for j, bin_col in enumerate(X_binarized.columns):\n",
    "        if bin_col.startswith(col):\n",
    "            bin_cols.append(j)\n",
    "    mapping_dict[i] = bin_cols\n",
    "\n",
    "np.random.seed(1)\n",
    "X_norm = (X_binarized-X_binarized.min())/(X_binarized.max()-X_binarized.min())\n",
    "n_train = round(n*0.8)\n",
    "train_idx = np.random.choice(n, n_train, replace=False)\n",
    "X_train, y_train = X_norm.iloc[train_idx].to_numpy(), y.iloc[train_idx].to_numpy()\n",
    "test_idx = np.setdiff1d(np.arange(n),train_idx)\n",
    "X_test, y_test = X_norm.iloc[test_idx].to_numpy(), y.iloc[test_idx].to_numpy()\n",
    "d = X_train.shape[1] # dimension of binarized data"
   ]
  },
  {
   "cell_type": "code",
   "execution_count": null,
   "metadata": {},
   "outputs": [],
   "source": []
  },
  {
   "cell_type": "code",
   "execution_count": 50,
   "metadata": {},
   "outputs": [],
   "source": [
    "sds = []\n",
    "for i in range(d):\n",
    "    uu = np.unique(X_train[:,i])\n",
    "    if len(uu) == 2:\n",
    "        sds.append(uu)\n",
    "    else:\n",
    "        sds.append(np.repeat(np.std(X_train[:,i]),2))\n",
    "sds = np.array(sds)\n",
    "\n",
    "feature_means = np.mean(X_train, axis=0)\n",
    "cov_mat = np.cov(X_train, rowvar=False)\n",
    "# Recondition covariance\n",
    "u, s, vh = np.linalg.svd(cov_mat, full_matrices=True)\n",
    "K = 10000\n",
    "if np.max(s)/np.min(s) < K:\n",
    "    cov2 = cov_mat\n",
    "else:\n",
    "    s_max = s[0]\n",
    "    min_acceptable = s_max/K\n",
    "    s2 = np.copy(s)\n",
    "    s2[s <= min_acceptable] = min_acceptable\n",
    "    cov2 = np.matmul(u, np.matmul(np.diag(s2), vh))\n"
   ]
  },
  {
   "cell_type": "code",
   "execution_count": null,
   "metadata": {},
   "outputs": [],
   "source": [
    "# Prepare for dependent sampling\n",
    "M_linear = 1000 # 10 seconds/1000 perms or so\n",
    "D_matrices = make_all_lundberg_matrices(M_linear, cov2)"
   ]
  },
  {
   "cell_type": "code",
   "execution_count": null,
   "metadata": {},
   "outputs": [],
   "source": []
  },
  {
   "cell_type": "code",
   "execution_count": 54,
   "metadata": {},
   "outputs": [
    {
     "name": "stdout",
     "output_type": "stream",
     "text": [
      "Class imbalance: 72.0\n",
      "Estimation accuracy: 73.5\n"
     ]
    }
   ],
   "source": [
    "d_train = lgb.Dataset(X_train, label=y_train)\n",
    "d_test = lgb.Dataset(X_test, label=y_test)\n",
    "\n",
    "params = {\n",
    "    \"max_bin\": 512,\n",
    "    \"learning_rate\": 0.05,\n",
    "    \"boosting_type\": \"gbdt\",\n",
    "    \"objective\": \"binary\",\n",
    "    \"metric\": \"binary_logloss\",\n",
    "    \"num_leaves\": 8,\n",
    "    \"verbose\": -1,\n",
    "    \"min_data\": 100,\n",
    "    \"boost_from_average\": True\n",
    "}\n",
    "\n",
    "lgbmodel = lgb.train(params, d_train, 10000, valid_sets=[d_test], verbose_eval=False)\n",
    "print(\"Class imbalance: {}\".format(100*(max(np.mean(y_test), 1-np.mean(y_test)))))\n",
    "print(\"Estimation accuracy: {}\".format(np.mean((lgbmodel.predict(X_test) > 0.5)==y_test)*100))\n",
    "\n",
    "# logreg = LogisticRegression(max_iter=1000).fit(X_train, y_train)\n",
    "# print(\"Logistic regression accuracy: {}\".format(np.mean(logreg.predict(X_test)==y_test)*100))\n",
    "\n"
   ]
  },
  {
   "cell_type": "code",
   "execution_count": null,
   "metadata": {},
   "outputs": [],
   "source": []
  },
  {
   "cell_type": "code",
   "execution_count": 57,
   "metadata": {},
   "outputs": [],
   "source": [
    "xloc = X_test[0:1]\n",
    "def fmodel(xloc):\n",
    "    return lgbmodel.predict(xloc)\n",
    "    \n",
    "gradient = difference_gradient(fmodel,xloc,sds)\n",
    "hessian = difference_hessian(fmodel,xloc,sds)\n",
    "\n"
   ]
  },
  {
   "cell_type": "code",
   "execution_count": 58,
   "metadata": {},
   "outputs": [
    {
     "name": "stderr",
     "output_type": "stream",
     "text": [
      "Usage of np.ndarray subset (sliced data) is not recommended due to it will double the peak memory cost in LightGBM.\n"
     ]
    },
    {
     "name": "stdout",
     "output_type": "stream",
     "text": [
      "2.0844666627461965\n",
      "[2.08402753]\n",
      "[ 0.  0.  5.  1.  0.  6.  0.  4.  2.  0.  3.  0.  0.  0.  0.  1.  0.  0.\n",
      " nan nan]\n"
     ]
    }
   ],
   "source": [
    "shap_CV_true_indep = compute_true_shap_cv_indep(xloc, gradient, hessian, feature_means, cov_mat, mapping_dict=mapping_dict)\n",
    "sum_shap_CV_true = np.sum(shap_CV_true_indep)\n",
    "avg_CV_empirical = np.mean(f_second_order_approx(fmodel(xloc),X_train, xloc, gradient, hessian))\n",
    "pred = fmodel(xloc)#[0]\n",
    "exp_CV_sum_empirical = pred - avg_CV_empirical\n",
    "print(sum_shap_CV_true)\n",
    "print(exp_CV_sum_empirical)\n",
    "independent_features = True\n",
    "obj_ss = cv_shapley_sampling(fmodel, X_train, xloc, \n",
    "                        independent_features,\n",
    "                        gradient, hessian,\n",
    "                        mapping_dict=mapping_dict,\n",
    "                        M=100, n_samples_per_perm=10) # M is number of permutations\n",
    "final_ests, vshap_ests_model, vshap_ests_CV, corr_ests = obj_ss\n",
    "\n",
    "order = np.argsort(np.abs(final_ests))[::-1]\n",
    "print(np.round(100*(np.maximum(corr_ests, 0)**2)[order])) # Variance reductions\n"
   ]
  },
  {
   "cell_type": "code",
   "execution_count": 61,
   "metadata": {},
   "outputs": [
    {
     "name": "stdout",
     "output_type": "stream",
     "text": [
      "[ 4. 17.  4. 25.  8.  4.  8.  9. 10.  5.  7.  9. 11.  6.  5. 11.  7.  5.\n",
      " 10.  8.]\n"
     ]
    }
   ],
   "source": [
    "independent_features = True\n",
    "obj_kshap = cv_kshap(fmodel, X_train, xloc, \n",
    "            independent_features,\n",
    "            gradient, hessian,\n",
    "            mapping_dict=mapping_dict,var_method=\"wls\",\n",
    "            M=1000, n_samples_per_perm=10)\n",
    "final_ests, vshap_ests_model, vshap_ests_CV, corr_ests = obj_kshap\n",
    "\n",
    "order = np.argsort(np.abs(final_ests))[::-1]\n",
    "print(np.round(100*(np.maximum(corr_ests,0)**2)[order])) # Variance reductions"
   ]
  },
  {
   "cell_type": "code",
   "execution_count": 62,
   "metadata": {},
   "outputs": [
    {
     "name": "stderr",
     "output_type": "stream",
     "text": [
      "covariance is not positive-semidefinite.\n",
      "covariance is not positive-semidefinite.\n"
     ]
    },
    {
     "name": "stdout",
     "output_type": "stream",
     "text": [
      "[16. 31. 32. 14. 16. 27. 16. 33.  9. 23.  7. 15. 23.  6.  8. 10. 15. 32.\n",
      " 15. 26.]\n"
     ]
    }
   ],
   "source": [
    "independent_features = False\n",
    "shap_CV_true_dep = linear_shap_vals(xloc, D_matrices, feature_means, gradient)\n",
    "obj_dep = cv_shapley_sampling(fmodel, X_train, xloc,\n",
    "                    independent_features,\n",
    "                    gradient,\n",
    "                    mapping_dict=mapping_dict,\n",
    "                    shap_CV_true=shap_CV_true_dep, # Equivalently, can give D_matrices instead\n",
    "                    M=100,n_samples_per_perm=10,\n",
    "                    cov_mat=cov2)\n",
    "final_ests, vshap_ests_model, vshap_ests_CV, corr_ests = obj_dep\n",
    "order = np.argsort(np.abs(final_ests))[::-1]\n",
    "print(np.round(100*(np.maximum(corr_ests,0)**2)[order])) # Variance reductions"
   ]
  },
  {
   "cell_type": "markdown",
   "metadata": {},
   "source": [
    "Sometimes get negligible variance reductions from bootstrapped covariance, but good ones from WLS"
   ]
  },
  {
   "cell_type": "code",
   "execution_count": 63,
   "metadata": {},
   "outputs": [
    {
     "name": "stderr",
     "output_type": "stream",
     "text": [
      "covariance is not positive-semidefinite.\n"
     ]
    },
    {
     "name": "stdout",
     "output_type": "stream",
     "text": [
      "[ 4. 21. 13. 13.  8.  8. 11. 11. 15. 13. 13. 11. 17. 13. 17. 10.  9.  9.\n",
      " 16. 11.]\n"
     ]
    }
   ],
   "source": [
    "np.random.seed(2)\n",
    "independent_features = False\n",
    "obj_kshap_dep = cv_kshap(fmodel, X_train, xloc,\n",
    "                    independent_features,\n",
    "                    gradient,\n",
    "                    mapping_dict=mapping_dict,\n",
    "                    shap_CV_true=shap_CV_true_dep,\n",
    "                    M=1000,n_samples_per_perm=10, var_method=\"wls\",\n",
    "                    cov_mat=cov2)\n",
    "final_ests, vshap_ests_model, vshap_ests_CV, corr_ests = obj_kshap_dep\n",
    "order = np.argsort(np.abs(final_ests))[::-1]\n",
    "print(np.round(100*(np.maximum(corr_ests,0)**2)[order])) # Variance reductions"
   ]
  },
  {
   "cell_type": "code",
   "execution_count": 66,
   "metadata": {},
   "outputs": [
    {
     "data": {
      "text/plain": [
       "array([0.28860728, 0.2097451 , 0.27955881, 0.32662143, 0.35827187,\n",
       "       0.35551129, 0.35529222, 0.39910473, 0.32873771, 0.40954856,\n",
       "       0.4105027 , 0.38389562, 0.46145546, 0.30617702, 0.36280361,\n",
       "       0.33632665, 0.35454802, 0.33603995, 0.31617785, 0.30804707])"
      ]
     },
     "execution_count": 66,
     "metadata": {},
     "output_type": "execute_result"
    }
   ],
   "source": []
  },
  {
   "cell_type": "code",
   "execution_count": null,
   "metadata": {},
   "outputs": [],
   "source": []
  }
 ],
 "metadata": {
  "interpreter": {
   "hash": "768407c71a286f507fab4bce553d71b5cbd766c247b76eb598ef769225202bc3"
  },
  "kernelspec": {
   "display_name": "Python 3.9.16 ('shap')",
   "language": "python",
   "name": "python3"
  },
  "language_info": {
   "codemirror_mode": {
    "name": "ipython",
    "version": 3
   },
   "file_extension": ".py",
   "mimetype": "text/x-python",
   "name": "python",
   "nbconvert_exporter": "python",
   "pygments_lexer": "ipython3",
   "version": "3.9.16"
  },
  "orig_nbformat": 4
 },
 "nbformat": 4,
 "nbformat_minor": 2
}

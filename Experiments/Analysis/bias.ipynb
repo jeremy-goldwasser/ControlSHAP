{
 "cells": [
  {
   "cell_type": "code",
   "execution_count": 51,
   "metadata": {},
   "outputs": [],
   "source": [
    "import sys\n",
    "sys.path.append('../../HelperFiles')\n",
    "\n",
    "from helper_shapley_sampling import *\n",
    "from helper_indep import *\n",
    "from helper import *\n",
    "sys.path.append('../Code')\n",
    "from helper_sim import *\n",
    "import numpy as np\n",
    "import matplotlib.pyplot as plt\n",
    "import pandas as pd\n",
    "from os.path import join\n",
    "from sklearn.linear_model import LogisticRegression\n"
   ]
  },
  {
   "cell_type": "code",
   "execution_count": 52,
   "metadata": {},
   "outputs": [],
   "source": [
    "X_train, y_train, X_test, y_test, mapping_dict = loaddata(\"credit\") # credit\n",
    "xloc = X_test[0:1]"
   ]
  },
  {
   "cell_type": "markdown",
   "metadata": {},
   "source": [
    "## Shapley Sampling\n",
    "### Independent Features"
   ]
  },
  {
   "cell_type": "code",
   "execution_count": 57,
   "metadata": {},
   "outputs": [
    {
     "name": "stdout",
     "output_type": "stream",
     "text": [
      "Class imbalance: 72.0\n",
      "Estimation accuracy: 74.0\n",
      "0.23\n",
      "Avg expected var reduct: 0.94\n",
      "5\n",
      "10\n",
      "15\n",
      "20\n",
      "Class imbalance: 72.0\n",
      "Estimation accuracy: 74.5\n",
      "0.2\n",
      "Avg expected var reduct: 0.17\n",
      "5\n",
      "10\n",
      "15\n",
      "20\n",
      "Epoch 1/5, Loss: 0.6694\n",
      "Epoch 2/5, Loss: 0.6321\n",
      "Epoch 3/5, Loss: 0.6121\n",
      "Epoch 4/5, Loss: 0.6129\n",
      "Epoch 5/5, Loss: 0.5723\n",
      "113/200 predictions are for positive class; really 144\n",
      "Balanced sampling. 70% accuracy\n",
      "0.1\n",
      "Avg expected var reduct: 0.65\n",
      "5\n",
      "10\n",
      "15\n",
      "20\n"
     ]
    }
   ],
   "source": [
    "def diffs_to_avg_pred(mod, n=10):\n",
    "        np.random.seed(0)\n",
    "        model, gradfn, hessfn, sds = fitmodgradhess(mod,X_train,y_train,X_test,y_test)\n",
    "\n",
    "        gradient = gradfn(model, xloc, sds)\n",
    "        hessian = hessfn(model, xloc, sds)\n",
    "        avg_pred = (model(xloc)-np.mean(model(X_train))).item()\n",
    "        print(round(avg_pred, 2))\n",
    "\n",
    "        independent_features = True\n",
    "        cv_sum, vanilla_sum = [], []\n",
    "        for i in range(n):\n",
    "                obj_ss = cv_shapley_sampling(model, X_train, xloc, \n",
    "                                        independent_features,\n",
    "                                        gradient, hessian,\n",
    "                                        mapping_dict=mapping_dict,\n",
    "                                        M=100, n_samples_per_perm=10)\n",
    "                final_ests, vshap_ests_model, vshap_ests_CV, corr_ests = obj_ss\n",
    "                cv_sum.append(np.sum(final_ests))\n",
    "                vanilla_sum.append(np.sum(vshap_ests_model))\n",
    "                if i==0: print(\"Avg expected var reduct: {}\".format(round(np.nanmean(corr_ests**2), 2)))\n",
    "                if (i+1)%5==0: print(i+1)\n",
    "        cv_diffs = [abs(s - avg_pred) for s in cv_sum]\n",
    "        vanilla_diffs = [abs(s - avg_pred) for s in vanilla_sum]\n",
    "        return cv_diffs, vanilla_diffs\n",
    "n = 20\n",
    "cv_diffs1, vanilla_diffs1 = diffs_to_avg_pred(\"glm\", n)\n",
    "cv_diffs2, vanilla_diffs2 = diffs_to_avg_pred(\"rf\", n)\n",
    "cv_diffs3, vanilla_diffs3 = diffs_to_avg_pred(\"nn\", n)"
   ]
  },
  {
   "cell_type": "code",
   "execution_count": 58,
   "metadata": {},
   "outputs": [],
   "source": [
    "cv_diffs1b = list(cv_diffs1 /np.mean(vanilla_diffs1))\n",
    "cv_diffs2b = list(cv_diffs2 /np.mean(vanilla_diffs2))\n",
    "cv_diffs3b = list(cv_diffs3 /np.mean(vanilla_diffs3))\n",
    "vanilla_diffs1b = list(vanilla_diffs1 /np.mean(vanilla_diffs1))\n",
    "vanilla_diffs2b = list(vanilla_diffs2 /np.mean(vanilla_diffs2))\n",
    "vanilla_diffs3b = list(vanilla_diffs3 /np.mean(vanilla_diffs3))\n"
   ]
  },
  {
   "cell_type": "code",
   "execution_count": 59,
   "metadata": {},
   "outputs": [
    {
     "data": {
      "image/png": "[encoded data removed]",
      "text/plain": [
       "<Figure size 800x300 with 1 Axes>"
      ]
     },
     "metadata": {},
     "output_type": "display_data"
    }
   ],
   "source": [
    "n = len(cv_diffs1)\n",
    "method = ([\"ControlSHAP\"]*n + [\"Vanilla SS\"]*n)*3\n",
    "models = [\"GLM\"]*2*n + [\"RF\"]*2*n + [\"NN\"]*2*n\n",
    "diffs_from_avg = cv_diffs1b + vanilla_diffs1b + cv_diffs2b + vanilla_diffs2b + cv_diffs3b + vanilla_diffs3b\n",
    "df = pd.DataFrame()\n",
    "df[\"Method\"] = method\n",
    "df[\"Model\"] = models\n",
    "df[\"Error\"] = diffs_from_avg\n",
    "\n",
    "import seaborn as sns\n",
    "plt.figure(figsize=(8,3))\n",
    "ax = sns.boxplot(data=df, x='Model', y='Error', hue='Method', palette=[\"m\", \"g\"])\n",
    "plt.savefig(\"../PaperFigs/error_from_avg.png\", bbox_inches='tight')\n",
    "plt.title(\"Error from sum of SHAP estimates to f(x)-Ef(X)\")\n",
    "plt.ylabel(\"Relative Absolute Error\")\n",
    "plt.show()\n"
   ]
  },
  {
   "cell_type": "code",
   "execution_count": null,
   "metadata": {},
   "outputs": [],
   "source": []
  },
  {
   "cell_type": "markdown",
   "metadata": {},
   "source": [
    "### Dependent Features\n",
    "Guarantee of adding to $f(x)-Ef(X)$ doesn't hold here!"
   ]
  },
  {
   "cell_type": "code",
   "execution_count": 60,
   "metadata": {},
   "outputs": [],
   "source": [
    "# model, gradfn, hessfn, sds = fitmodgradhess(\"glm\",X_train,y_train,X_test,y_test)\n",
    "# feature_means = np.mean(X_train, axis=0)\n",
    "# cov_mat = np.cov(X_train, rowvar=False)\n",
    "# cov_mat = correct_cov(cov_mat,Kr=10000)\n",
    "# gradient = gradfn(model, xloc, sds)\n",
    "# hessian = hessfn(model, xloc, sds)\n",
    "# avg_pred = (model(xloc)-np.mean(model(X_train))).item()\n",
    "# print(round(avg_pred, 2))\n",
    "\n",
    "# M_linear = 1000\n",
    "# D_matrices = make_all_lundberg_matrices(M_linear, cov_mat)\n",
    "\n",
    "# import warnings\n",
    "# warnings.filterwarnings('ignore')\n",
    "# cv_sum1, vanilla_sum1 = [], []\n",
    "# independent_features = False\n",
    "# for i in range(20):\n",
    "#     obj_ss = cv_shapley_sampling(model, X_train, xloc, \n",
    "#                             independent_features,\n",
    "#                             gradient, \n",
    "#                             mapping_dict=mapping_dict,\n",
    "#                             D_matrices=D_matrices,\n",
    "#                             cov_mat=cov_mat,\n",
    "#                             M=100, n_samples_per_perm=10)\n",
    "#     final_ests, vshap_ests_model, vshap_ests_CV, corr_ests = obj_ss\n",
    "#     cv_sum1.append(np.sum(final_ests))\n",
    "#     vanilla_sum1.append(np.sum(vshap_ests_model))\n",
    "#     if (i+1)%2==0: print(i+1)\n",
    "\n",
    "# cv_avg_diff = np.mean([abs(s - avg_pred) for s in cv_sum1])\n",
    "# vanilla_avg_diff = np.mean([abs(s - avg_pred) for s in vanilla_sum1])\n",
    "# print(cv_avg_diff, vanilla_avg_diff)"
   ]
  },
  {
   "cell_type": "markdown",
   "metadata": {},
   "source": [
    "## KernelSHAP\n",
    "There will be some bias added here, since by definition the vanilla sum is always exactly $f(x)-Ef(X)$."
   ]
  },
  {
   "cell_type": "code",
   "execution_count": 61,
   "metadata": {},
   "outputs": [],
   "source": [
    "# np.random.seed(1)\n",
    "# cv_sum2, vanilla_sum2 = [], []\n",
    "# independent_features = True\n",
    "# shap_CV_true_indep = compute_true_shap_cv_indep(xloc, gradient, hessian, feature_means, cov_mat, mapping_dict=mapping_dict)\n",
    "\n",
    "# for i in range(20):\n",
    "#     obj = cv_kshap_compare(fmodel, X_train, xloc,\n",
    "#                     independent_features,\n",
    "#                     gradient, hessian,\n",
    "#                     shap_CV_true=shap_CV_true_indep,\n",
    "#                     M=1000, n_samples_per_perm=10,\n",
    "#                     mapping_dict=mapping_dict)        \n",
    "#     vanilla_kshap_model, final_ests = obj[0], obj[2]\n",
    "#     if i==0: print(\"Avg correlation: {}\".format(round(np.mean(obj[3]), 2)))\n",
    "#     cv_sum2.append(np.sum(final_ests))\n",
    "#     vanilla_sum2.append(np.sum(vanilla_kshap_model))\n",
    "#     if (i+1)%5==0: print(i+1)\n",
    "\n",
    "# cv_avg_diff = np.mean([abs(s - avg_pred) for s in cv_sum2])\n",
    "# vanilla_avg_diff = np.mean([abs(s - avg_pred) for s in vanilla_sum2])\n",
    "# print(cv_avg_diff, vanilla_avg_diff)"
   ]
  },
  {
   "cell_type": "code",
   "execution_count": null,
   "metadata": {},
   "outputs": [
    {
     "name": "stdout",
     "output_type": "stream",
     "text": [
      "0.0024655785625805433 1.2212453270876722e-15\n"
     ]
    }
   ],
   "source": []
  },
  {
   "cell_type": "code",
   "execution_count": null,
   "metadata": {},
   "outputs": [],
   "source": [
    "\n"
   ]
  },
  {
   "cell_type": "code",
   "execution_count": null,
   "metadata": {},
   "outputs": [],
   "source": []
  }
 ],
 "metadata": {
  "interpreter": {
   "hash": "768407c71a286f507fab4bce553d71b5cbd766c247b76eb598ef769225202bc3"
  },
  "kernelspec": {
   "display_name": "Python 3.9.16 ('shap')",
   "language": "python",
   "name": "python3"
  },
  "language_info": {
   "codemirror_mode": {
    "name": "ipython",
    "version": 3
   },
   "file_extension": ".py",
   "mimetype": "text/x-python",
   "name": "python",
   "nbconvert_exporter": "python",
   "pygments_lexer": "ipython3",
   "version": "3.9.16"
  },
  "orig_nbformat": 4
 },
 "nbformat": 4,
 "nbformat_minor": 2
}

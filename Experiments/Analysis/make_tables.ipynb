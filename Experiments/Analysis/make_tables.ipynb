{
 "cells": [
  {
   "cell_type": "code",
   "execution_count": 41,
   "metadata": {},
   "outputs": [],
   "source": [
    "import numpy as np\n",
    "import matplotlib.pyplot as plt\n",
    "from scipy.stats import rankdata\n",
    "import pandas as pd\n",
    "import warnings\n",
    "warnings.filterwarnings('ignore')"
   ]
  },
  {
   "cell_type": "code",
   "execution_count": 42,
   "metadata": {},
   "outputs": [],
   "source": [
    "datasets = [\"logistic\", \"bank\", \"brca\", \"census\", \"credit\"]\n",
    "dataset_names = [\"Simulated\", \"Portuguese Bank\", \"BRCA\", \"Census Income\", \"German Credit\"]\n",
    "\n",
    "methods = [\"glm\", \"nn\", \"rf\"]\n",
    "method_names = [\"GLM\", \"Neural Net\", \"RF\"]\n",
    "cvshap_methods = [\"Indep, SS\", \"Indep, KSHAP\", \"Dep, SS\", \"Dep, KSHAP\"]\n",
    "num_most_important = 5\n"
   ]
  },
  {
   "cell_type": "markdown",
   "metadata": {},
   "source": [
    "## Variance Reductions"
   ]
  },
  {
   "cell_type": "code",
   "execution_count": 46,
   "metadata": {},
   "outputs": [
    {
     "name": "stdout",
     "output_type": "stream",
     "text": [
      "\n",
      "GLM\n",
      "              Simulated  Portuguese Bank  BRCA  Census Income  German Credit\n",
      "Indep, SS            10               76    75             33             83\n",
      "Indep, KSHAP         24               84    87              3             94\n",
      "Dep, SS              59               67    92             71             85\n",
      "Dep, KSHAP           51               69    94             59             87\n",
      "\n",
      "Neural Net\n",
      "              Simulated  Portuguese Bank  BRCA  Census Income  German Credit\n",
      "Indep, SS             9                8    76              4             55\n",
      "Indep, KSHAP         22               25    86             -1             80\n",
      "Dep, SS              58               58    92             61             84\n",
      "Dep, KSHAP           51               40    92             51             87\n",
      "\n",
      "RF\n",
      "              Simulated  Portuguese Bank  BRCA  Census Income  German Credit\n",
      "Indep, SS            31               18    19              4             15\n",
      "Indep, KSHAP         37                4    14              7             14\n",
      "Dep, SS              56                6    22              2             24\n",
      "Dep, KSHAP           54                1    17              3             22\n"
     ]
    }
   ],
   "source": [
    "for i, method in enumerate(methods):\n",
    "    print(\"\\n\" + method_names[i])\n",
    "    results_mat = np.empty((4,len(datasets)))\n",
    "    for idx in range(len(datasets)):\n",
    "        fname = '../Results/' + datasets[idx] + '_' + method\n",
    "        # #pts x #iters x #outputs x #features\n",
    "        kshaps_indep = np.array(np.load(fname+'_kshap_indep.npy'))\n",
    "        sss_indep = np.array(np.load(fname+'_ss_indep.npy'))\n",
    "        kshaps_dep = np.array(np.load(fname+'_kshap_dep.npy'))\n",
    "        sss_dep = np.array(np.load(fname+'_ss_dep.npy'))\n",
    "\n",
    "        n_pts, nsim_per_point, h, d = kshaps_indep.shape\n",
    "\n",
    "        vars_kshap_dep = np.nanvar(kshaps_dep,axis=1)\n",
    "        vars_kshap_indep = np.nanvar(kshaps_indep,axis=1)\n",
    "        vars_ss_dep = np.nanvar(sss_dep,axis=1)\n",
    "        vars_ss_indep = np.nanvar(sss_indep,axis=1)\n",
    "\n",
    "        var_reducs_indep = 1-np.array([[vars_ss_indep[i][0]/vars_ss_indep[i][1] for i in range(n_pts)],\n",
    "                            [vars_kshap_indep[i][6]/vars_kshap_indep[i][0] for i in range(n_pts)]])\n",
    "        reducs_indep_50 = np.quantile(var_reducs_indep,0.50,axis=1).T\n",
    "\n",
    "        var_reducs_dep = 1-np.array([[vars_ss_dep[i][0]/vars_ss_dep[i][1] for i in range(n_pts)],\n",
    "                            [vars_kshap_dep[i][6]/vars_kshap_dep[i][0] for i in range(n_pts)]])\n",
    "        reducs_dep_50 = np.quantile(var_reducs_dep,0.50,axis=1).T\n",
    "\n",
    "        global_shap_indep = np.sum(np.abs(np.nanmean(sss_indep, axis=1)[:,1,:]), axis=0)\n",
    "        order_indep = np.argsort(global_shap_indep)[::-1]\n",
    "        global_shap_dep = np.sum(np.abs(np.nanmean(sss_dep, axis=1)[:,1,:]), axis=0)\n",
    "        order_dep = np.argsort(global_shap_dep)[::-1]\n",
    "\n",
    "        indep_avg_var_reducs = np.median(reducs_indep_50[order_indep[:num_most_important]], axis=0)#num_most_important\n",
    "        dep_avg_var_reducs = np.median(reducs_dep_50[order_dep[:num_most_important]], axis=0)#num_most_important\n",
    "        avg_var_reducs = np.concatenate([indep_avg_var_reducs, dep_avg_var_reducs]) # Indep (SS, KSHAP), dep (SS, KSHAP)\n",
    "        results_mat[:,idx] = avg_var_reducs\n",
    "\n",
    "    results_df = pd.DataFrame(results_mat)\n",
    "    results_df.index = cvshap_methods\n",
    "    results_df.columns = dataset_names\n",
    "    results_df_int = (results_df*100).apply(np.round, axis=1).astype('Int64')\n",
    "    print(results_df_int)\n",
    "    results_df_int.to_csv(\"../PaperFigs/var_reducs_\" + method + \".csv\")\n",
    "    # Reload with pd.read_csv(\"NAME.csv\", index_col=0)"
   ]
  },
  {
   "cell_type": "markdown",
   "metadata": {},
   "source": [
    "# Ranking Changes"
   ]
  },
  {
   "cell_type": "code",
   "execution_count": 39,
   "metadata": {},
   "outputs": [
    {
     "name": "stdout",
     "output_type": "stream",
     "text": [
      "\n",
      "GLM\n",
      "              Simulated  Portuguese Bank  BRCA  Census Income  German Credit\n",
      "Indep, SS             6               57    57             13             60\n",
      "Indep, KSHAP         17               43    54              2             67\n",
      "Dep, SS              32               42    68             58             64\n",
      "Dep, KSHAP           27               29    71             30             59\n",
      "\n",
      "Neural Net\n",
      "              Simulated  Portuguese Bank  BRCA  Census Income  German Credit\n",
      "Indep, SS             6                2    52              3             36\n",
      "Indep, KSHAP         15                8    55              1             45\n",
      "Dep, SS              31               37    65             42             61\n",
      "Dep, KSHAP           28               13    68             24             60\n",
      "\n",
      "RF\n",
      "              Simulated  Portuguese Bank  BRCA  Census Income  German Credit\n",
      "Indep, SS            15                3     7              2              6\n",
      "Indep, KSHAP         19                3     6              4              6\n",
      "Dep, SS              31                5    11              5             17\n",
      "Dep, KSHAP           31               -2     9             -1             10\n"
     ]
    }
   ],
   "source": [
    "def calc_num_pairs(n):\n",
    "    return n*(n-1)/2\n",
    "for i, method in enumerate(methods):\n",
    "    print(\"\\n\" + method_names[i])\n",
    "    results_mat = np.empty((4,len(datasets)))\n",
    "    for idx in range(len(datasets)):\n",
    "        fname = '../Results/' + datasets[idx] + '_' + method\n",
    "        # #pts x #iters x #outputs x #features\n",
    "        kshaps_indep = np.array(np.load(fname+'_kshap_indep.npy'))\n",
    "        sss_indep = np.array(np.load(fname+'_ss_indep.npy'))\n",
    "        kshaps_dep = np.array(np.load(fname+'_kshap_dep.npy'))\n",
    "        sss_dep = np.array(np.load(fname+'_ss_dep.npy'))\n",
    "\n",
    "        n_pts, nsim_per_point, h, d = kshaps_indep.shape\n",
    "\n",
    "        ss_rank_cors_indep = np.empty(n_pts)\n",
    "        kshap_rank_cors_indep = np.empty(n_pts)\n",
    "\n",
    "        ss_cv_rank_cors_indep = np.empty(n_pts)\n",
    "        kshap_cv_rank_cors_indep = np.empty(n_pts)\n",
    "\n",
    "        ss_rank_cors_dep = np.empty(n_pts)\n",
    "        kshap_rank_cors_dep = np.empty(n_pts)\n",
    "\n",
    "        ss_cv_rank_cors_dep = np.empty(n_pts)\n",
    "        kshap_cv_rank_cors_dep = np.empty(n_pts)\n",
    "        n_pairs = calc_num_pairs(nsim_per_point)\n",
    "\n",
    "        for i in range(n_pts):\n",
    "            rankmat = np.array([rankdata(sss_indep[i][j][1]) for j in range(nsim_per_point)])\n",
    "            ss_rank_cors_indep[i] = np.sum(np.abs(rankmat[:,None,:]-rankmat[None,:,:]))/n_pairs# n_pts**2\n",
    "\n",
    "            rankmat = np.array([rankdata(sss_dep[i][j][1]) for j in range(nsim_per_point)])\n",
    "            ss_rank_cors_dep[i] = np.sum(np.abs(rankmat[:,None,:]-rankmat[None,:,:]))/n_pairs\n",
    "\n",
    "            rankmat = np.array([rankdata(sss_indep[i][j][0]) for j in range(nsim_per_point)])\n",
    "            ss_cv_rank_cors_indep[i] = np.sum(np.abs(rankmat[:,None,:]-rankmat[None,:,:]))/n_pairs\n",
    "\n",
    "            rankmat = np.array([rankdata(sss_dep[i][j][0]) for j in range(nsim_per_point)])\n",
    "            ss_cv_rank_cors_dep[i] = np.sum(np.abs(rankmat[:,None,:]-rankmat[None,:,:]))/n_pairs\n",
    "\n",
    "            rankmat = np.array([rankdata(kshaps_indep[i][j][0]) for j in range(nsim_per_point)])\n",
    "            kshap_rank_cors_indep[i] = np.sum(np.abs(rankmat[:,None,:]-rankmat[None,:,:]))/n_pairs\n",
    "\n",
    "            rankmat = np.array([rankdata(kshaps_dep[i][j][0]) for j in range(nsim_per_point)])\n",
    "            kshap_rank_cors_dep[i] = np.sum(np.abs(rankmat[:,None,:]-rankmat[None,:,:]))/n_pairs\n",
    "\n",
    "            rankmat = np.array([rankdata(kshaps_indep[i][j][6]) for j in range(nsim_per_point)])\n",
    "            kshap_cv_rank_cors_indep[i] = np.sum(np.abs(rankmat[:,None,:]-rankmat[None,:,:]))/n_pairs\n",
    "\n",
    "            rankmat = np.array([rankdata(kshaps_dep[i][j][6]) for j in range(nsim_per_point)])\n",
    "            kshap_cv_rank_cors_dep[i] = np.sum(np.abs(rankmat[:,None,:]-rankmat[None,:,:]))/n_pairs\n",
    "\n",
    "        pct_reduc_rank_chgs_ss_indep = np.nanmean((ss_rank_cors_indep - ss_cv_rank_cors_indep)/ss_rank_cors_indep)*100\n",
    "        pct_reduc_rank_chgs_ss_dep = np.nanmean((ss_rank_cors_dep - ss_cv_rank_cors_dep)/ss_rank_cors_dep)*100\n",
    "        pct_reduc_rank_chgs_kshap_indep = np.nanmean((kshap_rank_cors_indep - kshap_cv_rank_cors_indep)/kshap_rank_cors_indep)*100\n",
    "        pct_reduc_rank_chgs_kshap_dep = np.nanmean((kshap_rank_cors_dep - kshap_cv_rank_cors_dep)/kshap_rank_cors_dep)*100\n",
    "        results_mat[:,idx] = [pct_reduc_rank_chgs_ss_indep, pct_reduc_rank_chgs_kshap_indep, pct_reduc_rank_chgs_ss_dep, pct_reduc_rank_chgs_kshap_dep]\n",
    "\n",
    "    results_df = pd.DataFrame(results_mat)\n",
    "    results_df.index = [\"Indep, SS\", \"Indep, KSHAP\", \"Dep, SS\", \"Dep, KSHAP\"]\n",
    "    results_df.columns = dataset_names\n",
    "    results_df_int = (results_df).apply(np.round, axis=1).astype('Int64')\n",
    "    print(results_df_int)\n",
    "    results_df_int.to_csv(\"../PaperFigs/rank_chgs_\" + method + \".csv\")\n",
    "    # Reload with pd.read_csv(\"NAME.csv\", index_col=0)\n"
   ]
  },
  {
   "cell_type": "markdown",
   "metadata": {},
   "source": [
    "Rankdata: i'th element of rankdata's list is the rank (lowest-to-highest) of i'th element of original list<br>\n",
    "- Each element (i,j,k) of np.abs(rankmat[:,None,:]-rankmat[None,:,:]) is the number of rank changes of feature k between runs i and j"
   ]
  }
 ],
 "metadata": {
  "interpreter": {
   "hash": "768407c71a286f507fab4bce553d71b5cbd766c247b76eb598ef769225202bc3"
  },
  "kernelspec": {
   "display_name": "Python 3.9.16 ('shap')",
   "language": "python",
   "name": "python3"
  },
  "language_info": {
   "codemirror_mode": {
    "name": "ipython",
    "version": 3
   },
   "file_extension": ".py",
   "mimetype": "text/x-python",
   "name": "python",
   "nbconvert_exporter": "python",
   "pygments_lexer": "ipython3",
   "version": "3.9.16"
  },
  "orig_nbformat": 4
 },
 "nbformat": 4,
 "nbformat_minor": 2
}
